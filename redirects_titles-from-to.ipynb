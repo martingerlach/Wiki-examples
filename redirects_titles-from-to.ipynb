{
 "cells": [
  {
   "cell_type": "markdown",
   "metadata": {},
   "source": [
    "## Get all redirects (title_from, title_to) for a wiki"
   ]
  },
  {
   "cell_type": "code",
   "execution_count": 1,
   "metadata": {},
   "outputs": [
    {
     "name": "stderr",
     "output_type": "stream",
     "text": [
      "You are using wmfdata v1.0.1, but v1.0.3 is available.\n",
      "\n",
      "To update, run `pip install --upgrade git+https://github.com/neilpquinn/wmfdata/wmfdata.git@release`.\n",
      "\n",
      "To see the changes, refer to https://github.com/neilpquinn/wmfdata/blob/release/CHANGELOG.md\n"
     ]
    }
   ],
   "source": [
    "import os, sys\n",
    "import numpy as np\n",
    "import pandas as pd\n",
    "import wmfdata\n",
    "import json\n",
    "import bz2\n",
    "import datetime\n",
    "\n",
    "\n",
    "import wmfdata.spark as wmfspark\n",
    "import findspark\n",
    "findspark.init('/usr/lib/spark2')\n",
    "from pyspark.sql import SparkSession\n",
    "from pyspark.sql import functions as F, types as T, Window"
   ]
  },
  {
   "cell_type": "code",
   "execution_count": 2,
   "metadata": {},
   "outputs": [
    {
     "data": {
      "text/html": [
       "\n",
       "            <div>\n",
       "                <p><b>SparkSession - hive</b></p>\n",
       "                \n",
       "        <div>\n",
       "            <p><b>SparkContext</b></p>\n",
       "\n",
       "            <p><a href=\"http://stat1005.eqiad.wmnet:4042\">Spark UI</a></p>\n",
       "\n",
       "            <dl>\n",
       "              <dt>Version</dt>\n",
       "                <dd><code>v2.4.4</code></dd>\n",
       "              <dt>Master</dt>\n",
       "                <dd><code>yarn</code></dd>\n",
       "              <dt>AppName</dt>\n",
       "                <dd><code>Pyspark notebook</code></dd>\n",
       "            </dl>\n",
       "        </div>\n",
       "        \n",
       "            </div>\n",
       "        "
      ],
      "text/plain": [
       "<pyspark.sql.session.SparkSession at 0x7f0a304db748>"
      ]
     },
     "execution_count": 2,
     "metadata": {},
     "output_type": "execute_result"
    }
   ],
   "source": [
    "os.environ['PYSPARK_DRIVER_PYTHON'] = 'notebook'\n",
    "os.environ['PYSPARK_PYTHON'] = '/usr/bin/python3.5'\n",
    "\n",
    "spark_config = {}\n",
    "spark = wmfspark.get_session(\n",
    "    app_name='Pyspark notebook',\n",
    "    extra_settings=spark_config\n",
    ")\n",
    "spark"
   ]
  },
  {
   "cell_type": "markdown",
   "metadata": {},
   "source": [
    "## Get all redirects"
   ]
  },
  {
   "cell_type": "code",
   "execution_count": 3,
   "metadata": {},
   "outputs": [
    {
     "name": "stdout",
     "output_type": "stream",
     "text": [
      "+--------------------+-----------------+\n",
      "|     page_title_from|    page_title_to|\n",
      "+--------------------+-----------------+\n",
      "|     Pius_XII_(Papa)|    Papa_Pius_XII|\n",
      "|          Mwaka_1936|             1936|\n",
      "|        Musoma_mjini|     Musoma_(mji)|\n",
      "|              Babado|         Barbados|\n",
      "|               Cheki|           Ucheki|\n",
      "|    Mobotu_Sese_Seko| Mobutu_Sese_Seko|\n",
      "|   Lugha_ya_Kiisanzu|         Kiisanzu|\n",
      "|Giacomo_della_Chiesa|Papa_Benedikto_XV|\n",
      "|             Tolkien|   J.R.R._Tolkien|\n",
      "|             Aviceda|    Kipanga-kekeo|\n",
      "+--------------------+-----------------+\n",
      "only showing top 10 rows\n",
      "\n"
     ]
    }
   ],
   "source": [
    "## define wiki and snapshot for analysis\n",
    "wiki = 'swwiki'\n",
    "snapshot = '2020-05'\n",
    "\n",
    "## all pages in the main namespace (incl redirects)\n",
    "# page_id, page_title, page_is_redirect\n",
    "df_pages = (\n",
    "    ## select table\n",
    "    spark.read.table('wmf_raw.mediawiki_page')\n",
    "    ## select wiki project\n",
    "    .where( F.col('wiki_db') == wiki )\n",
    "    .where( F.col('snapshot') == snapshot )\n",
    "    ## main namespace\n",
    "    .where(F.col('page_namespace') == 0 )\n",
    "    .select('page_id','page_title','page_is_redirect')\n",
    ")\n",
    "\n",
    "## redirects table with page_ids from/to\n",
    "## we join the pages table to get page_id for the redirected-to page\n",
    "df_redirect = (\n",
    "    ## select table\n",
    "    spark.read.table('wmf_raw.mediawiki_redirect')\n",
    "    ## select wiki project\n",
    "    .where( F.col('wiki_db') == wiki )\n",
    "    .where( F.col('snapshot') == snapshot )\n",
    "    .where(F.col('rd_namespace') == 0 )\n",
    "    .select(\n",
    "        F.col('rd_from').alias('page_id_from'),\n",
    "        F.col('rd_title').alias('page_title_to')\n",
    "    )\n",
    "    .join(df_pages.withColumnRenamed('page_id','page_id_from'),on='page_id_from',how='inner')\n",
    "    .withColumnRenamed('page_title','page_title_from')\n",
    "    .select(\n",
    "        F.col('page_title_from'),\n",
    "        F.col('page_title_to')\n",
    "    )\n",
    ")\n",
    "df_redirect.show(10)"
   ]
  },
  {
   "cell_type": "code",
   "execution_count": null,
   "metadata": {},
   "outputs": [],
   "source": []
  }
 ],
 "metadata": {
  "kernelspec": {
   "display_name": "ven_wmfdata",
   "language": "python",
   "name": "ven_wmfdata"
  },
  "language_info": {
   "codemirror_mode": {
    "name": "ipython",
    "version": 3
   },
   "file_extension": ".py",
   "mimetype": "text/x-python",
   "name": "python",
   "nbconvert_exporter": "python",
   "pygments_lexer": "ipython3",
   "version": "3.5.3"
  }
 },
 "nbformat": 4,
 "nbformat_minor": 2
}
