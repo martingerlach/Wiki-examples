{
 "cells": [
  {
   "cell_type": "code",
   "execution_count": 1,
   "metadata": {},
   "outputs": [
    {
     "name": "stderr",
     "output_type": "stream",
     "text": [
      "You are using wmfdata v1.3.2, but v2.0.0 is available.\n",
      "\n",
      "To update, run `pip install --upgrade git+https://github.com/wikimedia/wmfdata-python.git@release --ignore-installed`.\n",
      "\n",
      "To see the changes, refer to https://github.com/wikimedia/wmfdata-python/blob/release/CHANGELOG.md\n",
      "PySpark executors will use /usr/lib/anaconda-wmf/bin/python3.\n"
     ]
    }
   ],
   "source": [
    "import findspark\n",
    "\n",
    "findspark.init(\"/usr/lib/spark2\")\n",
    "import os\n",
    "import sys\n",
    "\n",
    "from pyspark.sql import SparkSession\n",
    "from pyspark.sql import functions as F\n",
    "from pyspark.sql.functions import sum as _sum\n",
    "import os.path\n",
    "\n",
    "import wmfdata.spark as wmfspark\n",
    "## defining the spark session\n",
    "spark_config = {}\n",
    "spark = wmfspark.get_session(\n",
    "    app_name='Pyspark notebook', \n",
    "    type='regular'\n",
    "#     extra_settings=spark_config\n",
    ")\n",
    "spark\n",
    "\n",
    "import mwparserfromhell\n",
    "import pandas as pd\n",
    "import urllib\n",
    "from pyspark.sql import types as T\n",
    "import datetime\n",
    "import dateutil.relativedelta\n",
    "import pyarrow.parquet as pq"
   ]
  },
  {
   "cell_type": "markdown",
   "metadata": {},
   "source": [
    "# abbreviations"
   ]
  },
  {
   "cell_type": "code",
   "execution_count": 11,
   "metadata": {},
   "outputs": [],
   "source": [
    "# abbr_list = [\"time.\",\"up.\"]\n",
    "abbr_df = pd.read_csv(\"abbr_refined.csv\")\n",
    "abbr_list = [w for w in abbr_df[\"abbreviations\"].tolist() if len(w[:-1])>0]\n",
    "abbr_list_without_punct = [w[:-1] for w in abbr_list]\n",
    "# print(abbr_list,abbr_list_without_punct)\n",
    "set_words = set(abbr_list+abbr_list_without_punct)\n",
    "# print(set_words)\n",
    "\n"
   ]
  },
  {
   "cell_type": "code",
   "execution_count": 12,
   "metadata": {},
   "outputs": [],
   "source": [
    "def normalise_title(title):\n",
    "    \"\"\"\n",
    "    Normalising title (links)\n",
    "    - deal with quotes\n",
    "    - strip()\n",
    "    - '_'--> ' '\n",
    "    - capitalize first letter\n",
    "    \"\"\"\n",
    "    title = urllib.parse.unquote(title)\n",
    "    title = title.strip()\n",
    "    if len(title) > 0:\n",
    "        title = title[0].upper() + title[1:]\n",
    "    n_title = title.replace(\"_\", \" \")\n",
    "    if \"#\" in n_title:\n",
    "        n_title = n_title.split(\"#\")[0]\n",
    "    return n_title\n",
    "\n",
    "\n",
    "def extract_article(row):\n",
    "    \"\"\"Extract the content of the article.\n",
    "    normalize the titles\"\"\"\n",
    "    #     redirect = row.page_redirect_title if row.page_redirect_title is not None else \"\"\n",
    "    return T.Row(\n",
    "        pid=row.page_id,\n",
    "        title=normalise_title(row.page_title),\n",
    "        title_rd=normalise_title(row.page_redirect_title),\n",
    "        wikitext=row.revision_text,\n",
    "    )\n",
    "\n",
    "\n",
    "def get_plain_text_without_links(row):\n",
    "    \"\"\"Replace the links with a dot to interrupt the sentence and get the plain text\"\"\"\n",
    "    wikicode = row.wikitext\n",
    "    text = mwparserfromhell.parse(wikicode).strip_code()  # made change\n",
    "    return T.Row(pid=row.pid, title=normalise_title(row.title), text=text)\n",
    "\n",
    "\n",
    "def get_valid_ngrams(row):\n",
    "    text = row.text  # one article\n",
    "    words = text.split()\n",
    "    word_len = len(words)\n",
    "\n",
    "    found_words = []\n",
    "    for w in words:\n",
    "        if w in set_words:\n",
    "            found_words.append(w)\n",
    "    return [\n",
    "        T.Row(\n",
    "            pid=row.pid,\n",
    "            w = w\n",
    "        )\n",
    "        for w in found_words\n",
    "    ]"
   ]
  },
  {
   "cell_type": "code",
   "execution_count": 13,
   "metadata": {},
   "outputs": [],
   "source": [
    "snapshot = \"2022-11\" # latest snapshot, comment out if you want to use the code above\n",
    "wiki_id = \"simplewiki\" # list of wikipedia projects, comment out if you want to use the code below"
   ]
  },
  {
   "cell_type": "code",
   "execution_count": 14,
   "metadata": {},
   "outputs": [],
   "source": [
    "# load the wikitext-table\n",
    "wikipedia_all = (\n",
    "    ## select table\n",
    "    spark.read.table(\"wmf.mediawiki_wikitext_current\")\n",
    "    ## select wiki project and snapshot\n",
    "    .where(F.col(\"wiki_db\") == wiki_id)\n",
    "    .where(F.col(\"snapshot\") == snapshot)\n",
    "    ## main namespace (0 is the main namespace)\n",
    "    .where(F.col(\"page_namespace\") == 0)\n",
    "    ## remove empty articles\n",
    "    .where(F.col(\"revision_text\").isNotNull())\n",
    "    .where(F.length(F.col(\"revision_text\")) > 0)\n",
    ")\n",
    "# extract article from the wikitext-table, as rows\n",
    "temp_df = wikipedia_all.rdd.map(extract_article).filter(lambda r: r is not None)\n",
    "wikipedia = spark.createDataFrame(temp_df)\n",
    "articles = wikipedia.where(F.col(\"title_rd\") == \"\").select(\"pid\", \"title\", \"wikitext\")\n",
    "chunks = articles.rdd.map(get_plain_text_without_links) # wikitext to plaintext\n",
    "rows = chunks.flatMap(get_valid_ngrams) #for each article, identify the abbreviations with & without termninating punctuation and their corresponding frequencies\n",
    "\n",
    "rows_agg = (\n",
    "    spark.createDataFrame(rows)\n",
    "    .groupBy(\"w\")\n",
    "    .agg(F.count(\"*\").alias(\"occ\"))\n",
    ").cache()\n"
   ]
  },
  {
   "cell_type": "code",
   "execution_count": 15,
   "metadata": {},
   "outputs": [
    {
     "name": "stdout",
     "output_type": "stream",
     "text": [
      "+-------+-----+\n",
      "|      w|  occ|\n",
      "+-------+-----+\n",
      "|      .|15439|\n",
      "|    Far|  730|\n",
      "|    17.|  386|\n",
      "|    del| 4564|\n",
      "|    Apr|  241|\n",
      "|    mit|  227|\n",
      "|    Ur.|   17|\n",
      "|   vale|   10|\n",
      "|     им|    3|\n",
      "|   rat.|   28|\n",
      "|   chin|   72|\n",
      "|    nm.|   12|\n",
      "|    .no|    2|\n",
      "|   mar.|    6|\n",
      "|generál|    1|\n",
      "|    د.ك|    1|\n",
      "|   Kos.|    4|\n",
      "|    S.P|    1|\n",
      "|    .tm|    1|\n",
      "| Diener|    2|\n",
      "+-------+-----+\n",
      "only showing top 20 rows\n",
      "\n"
     ]
    }
   ],
   "source": [
    "rows_agg.show()"
   ]
  },
  {
   "cell_type": "markdown",
   "metadata": {},
   "source": [
    "# aligning the counts of with and without punctuation"
   ]
  },
  {
   "cell_type": "code",
   "execution_count": 16,
   "metadata": {},
   "outputs": [
    {
     "name": "stdout",
     "output_type": "stream",
     "text": [
      "+-------------------+--------------------+------------+---------------+\n",
      "|    w_without_punct|        w_with_punct|n_with_punct|n_without_punct|\n",
      "+-------------------+--------------------+------------+---------------+\n",
      "|               K.22|               K.227|           0|              0|\n",
      "|              མི་སྐ|              མི་སྐུ|           0|              0|\n",
      "|               прел|               прел.|           0|              0|\n",
      "|                 .s|                 .sg|           3|              0|\n",
      "|               арап|               арап.|           0|              0|\n",
      "|            нефте..|            нефте...|           0|              0|\n",
      "|                tab|                tab.|           2|             49|\n",
      "|མཉམ་འབྲེལ་རྒྱལ་ཚོགས|མཉམ་འབྲེལ་རྒྱལ་ཚོགས།|           0|              0|\n",
      "|                 ᩃᩯ|                 ᩃᩯ᩵|           0|              0|\n",
      "|                  བ|                  བྷ|           0|              0|\n",
      "|              Miälk|              Miälk.|           0|              0|\n",
      "|                 ym|                 ym.|           0|              1|\n",
      "|             duonon|             duonon.|           0|              0|\n",
      "|              Racib|              Racib.|           0|              0|\n",
      "|                 肚|                肚欸|           0|              0|\n",
      "|              พ.ร.บ|              พ.ร.บ.|           0|              0|\n",
      "|               vedk|               vedk.|           0|              0|\n",
      "|                 ب.|                 ب.ظ|           0|              0|\n",
      "|                cir|                cir.|           0|              0|\n",
      "|                Mex|                Mex.|           4|             16|\n",
      "+-------------------+--------------------+------------+---------------+\n",
      "only showing top 20 rows\n",
      "\n"
     ]
    }
   ],
   "source": [
    "df_final = spark.createDataFrame(zip(abbr_list,abbr_list_without_punct),[\"w_with_punct\",\"w_without_punct\"])\n",
    "\n",
    "df_final = (\n",
    "    df_final\n",
    "    # join w_with_punct\n",
    "    .join(\n",
    "        rows_agg\n",
    "        .withColumnRenamed(\"w\",\"w_with_punct\")\n",
    "        .withColumnRenamed(\"occ\",\"n_with_punct\"),\n",
    "        on=\"w_with_punct\",\n",
    "        how=\"left\"\n",
    "    )\n",
    "    # join w_without_punct\n",
    "    .join(\n",
    "        rows_agg\n",
    "        .withColumnRenamed(\"w\",\"w_without_punct\")\n",
    "        .withColumnRenamed(\"occ\",\"n_without_punct\"),\n",
    "        on=\"w_without_punct\",\n",
    "        how=\"left\"\n",
    "    )\n",
    "    .fillna(0)\n",
    ")\n",
    "df_final.show()"
   ]
  },
  {
   "cell_type": "code",
   "execution_count": 19,
   "metadata": {},
   "outputs": [
    {
     "name": "stdout",
     "output_type": "stream",
     "text": [
      "+---------------+------------+------------+---------------+\n",
      "|w_without_punct|w_with_punct|n_with_punct|n_without_punct|\n",
      "+---------------+------------+------------+---------------+\n",
      "|            the|        the?|           0|        1878032|\n",
      "|             of|         of?|           2|        1274015|\n",
      "|             in|         in.|         940|         997342|\n",
      "|             in|         in?|           0|         997342|\n",
      "|            and|        and.|           6|         902533|\n",
      "|              a|          a!|           1|         694214|\n",
      "|              a|          a.|         142|         694214|\n",
      "|              a|          a?|           0|         694214|\n",
      "|             is|         is.|         716|         571086|\n",
      "|             to|         to.|         557|         539690|\n",
      "|             to|         to?|           3|         539690|\n",
      "|            was|        was.|         319|         431578|\n",
      "|           from|       from?|          15|         254425|\n",
      "|            for|        for?|           9|         251009|\n",
      "|            for|        for.|         265|         251009|\n",
      "|             on|         on!|          23|         234409|\n",
      "|             on|         on?|           0|         234409|\n",
      "|             as|         as.|          23|         216304|\n",
      "|             at|         at.|         108|         157006|\n",
      "|             It|         It.|          56|         156331|\n",
      "+---------------+------------+------------+---------------+\n",
      "only showing top 20 rows\n",
      "\n"
     ]
    }
   ],
   "source": [
    "df_final.orderBy(\"n_without_punct\",ascending=False).show()"
   ]
  },
  {
   "cell_type": "code",
   "execution_count": null,
   "metadata": {},
   "outputs": [],
   "source": []
  }
 ],
 "metadata": {
  "kernelspec": {
   "display_name": "venv_conda-base",
   "language": "python",
   "name": "venv_conda-base"
  },
  "language_info": {
   "codemirror_mode": {
    "name": "ipython",
    "version": 3
   },
   "file_extension": ".py",
   "mimetype": "text/x-python",
   "name": "python",
   "nbconvert_exporter": "python",
   "pygments_lexer": "ipython3",
   "version": "3.7.6"
  }
 },
 "nbformat": 4,
 "nbformat_minor": 4
}
