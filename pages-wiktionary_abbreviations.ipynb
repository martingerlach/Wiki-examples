{
 "cells": [
  {
   "cell_type": "markdown",
   "metadata": {},
   "source": [
    "# Wiktionary-dumps"
   ]
  },
  {
   "cell_type": "markdown",
   "metadata": {},
   "source": [
    "### Starting a session in spark"
   ]
  },
  {
   "cell_type": "code",
   "execution_count": 11,
   "metadata": {},
   "outputs": [
    {
     "name": "stderr",
     "output_type": "stream",
     "text": [
      "PySpark executors will use /usr/lib/anaconda-wmf/bin/python3.\n"
     ]
    },
    {
     "data": {
      "text/html": [
       "\n",
       "            <div>\n",
       "                <p><b>SparkSession - hive</b></p>\n",
       "                \n",
       "        <div>\n",
       "            <p><b>SparkContext</b></p>\n",
       "\n",
       "            <p><a href=\"http://stat1008.eqiad.wmnet:4041\">Spark UI</a></p>\n",
       "\n",
       "            <dl>\n",
       "              <dt>Version</dt>\n",
       "                <dd><code>v2.4.4</code></dd>\n",
       "              <dt>Master</dt>\n",
       "                <dd><code>yarn</code></dd>\n",
       "              <dt>AppName</dt>\n",
       "                <dd><code>Pyspark notebook</code></dd>\n",
       "            </dl>\n",
       "        </div>\n",
       "        \n",
       "            </div>\n",
       "        "
      ],
      "text/plain": [
       "<pyspark.sql.session.SparkSession at 0x7febb53148d0>"
      ]
     },
     "execution_count": 11,
     "metadata": {},
     "output_type": "execute_result"
    }
   ],
   "source": [
    "import os, sys\n",
    "import datetime\n",
    "import calendar\n",
    "import time\n",
    "import string\n",
    "import random\n",
    "import mwparserfromhell\n",
    "\n",
    "import findspark\n",
    "findspark.init('/usr/lib/spark2')\n",
    "from pyspark.sql import SparkSession\n",
    "from pyspark.sql import functions as F, types as T, Window\n",
    "import wmfdata.spark as wmfspark\n",
    "\n",
    "## defining the spark session\n",
    "spark_config = {}\n",
    "spark = wmfspark.get_session(\n",
    "    app_name='Pyspark notebook', \n",
    "    type='regular'\n",
    "#     extra_settings=spark_config\n",
    ")\n",
    "spark"
   ]
  },
  {
   "cell_type": "markdown",
   "metadata": {},
   "source": [
    "# Abbreviations: pagetitles in Wiktionary ending in a full stop"
   ]
  },
  {
   "cell_type": "markdown",
   "metadata": {},
   "source": [
    "### Defining a snapshot"
   ]
  },
  {
   "cell_type": "code",
   "execution_count": 5,
   "metadata": {},
   "outputs": [],
   "source": [
    "## define a snapshot\n",
    "snapshot = \"2022-09\""
   ]
  },
  {
   "cell_type": "markdown",
   "metadata": {},
   "source": [
    "### We first get a list with all relevant projects (in this case: wiktionary)"
   ]
  },
  {
   "cell_type": "code",
   "execution_count": 6,
   "metadata": {},
   "outputs": [
    {
     "name": "stdout",
     "output_type": "stream",
     "text": [
      "+-------------+\n",
      "|      wiki_db|\n",
      "+-------------+\n",
      "| afwiktionary|\n",
      "| amwiktionary|\n",
      "|angwiktionary|\n",
      "| anwiktionary|\n",
      "| arwiktionary|\n",
      "|astwiktionary|\n",
      "| aywiktionary|\n",
      "| azwiktionary|\n",
      "|bclwiktionary|\n",
      "| bewiktionary|\n",
      "| bgwiktionary|\n",
      "|bjnwiktionary|\n",
      "| bnwiktionary|\n",
      "| brwiktionary|\n",
      "| bswiktionary|\n",
      "| cawiktionary|\n",
      "|chrwiktionary|\n",
      "| cowiktionary|\n",
      "|csbwiktionary|\n",
      "| cswiktionary|\n",
      "+-------------+\n",
      "only showing top 20 rows\n",
      "\n"
     ]
    }
   ],
   "source": [
    "## get a list of all wikipedia-projects (e.g. not wikidata)\n",
    "df_projects = (\n",
    "    spark.read.table('wmf_raw.mediawiki_project_namespace_map')\n",
    "    .where(F.col(\"snapshot\") == snapshot)\n",
    "    .where(F.col(\"hostname\").contains(\"wiktionary\"))\n",
    "    .select(F.col(\"dbname\").alias(\"wiki_db\"))\n",
    "    .distinct()\n",
    ")\n",
    "df_projects.orderBy(\"wiki_db\").show()"
   ]
  },
  {
   "cell_type": "code",
   "execution_count": 9,
   "metadata": {},
   "outputs": [
    {
     "name": "stdout",
     "output_type": "stream",
     "text": [
      "+------------+----------+\n",
      "|wiki_db     |page_title|\n",
      "+------------+----------+\n",
      "|enwiktionary|A.M.      |\n",
      "|enwiktionary|i.e.      |\n",
      "|enwiktionary|e.g.      |\n",
      "|enwiktionary|imp.      |\n",
      "|enwiktionary|gram.     |\n",
      "|enwiktionary|cf.       |\n",
      "|enwiktionary|p._pr.    |\n",
      "|enwiktionary|vb._n.    |\n",
      "|enwiktionary|chem.     |\n",
      "|enwiktionary|pl.       |\n",
      "|enwiktionary|compar.   |\n",
      "|enwiktionary|superl.   |\n",
      "|enwiktionary|et_al.    |\n",
      "|enwiktionary|уст.      |\n",
      "|enwiktionary|A.K.A.    |\n",
      "|enwiktionary|inc.      |\n",
      "|enwiktionary|Ltd.      |\n",
      "|enwiktionary|assoc.    |\n",
      "|enwiktionary|ave.      |\n",
      "|enwiktionary|st.       |\n",
      "+------------+----------+\n",
      "only showing top 20 rows\n",
      "\n"
     ]
    }
   ],
   "source": [
    "## all wikipedia pages in the main namespace: \n",
    "## wiki_db, page_id, page_title, page_is_redirect\n",
    "df_pages = (\n",
    "    ## select table\n",
    "    spark.read.table('wmf_raw.mediawiki_page')\n",
    "    ## select snapshot\n",
    "    .where( F.col('snapshot') == snapshot )\n",
    "\n",
    "    ## filter wiki_dbs\n",
    "    .where(F.col(\"wiki_db\") == \"enwiktionary\")\n",
    "    # in case we want to get all wiktionaries\n",
    "#     .join(\n",
    "#         df_projects,\n",
    "#         on = \"wiki_db\",\n",
    "#         how = \"inner\"\n",
    "#     )\n",
    "    ## main namespace\n",
    "    .where(F.col('page_namespace') == 0 )\n",
    "\n",
    "    # TODO: add other punctuation symbols\n",
    "    .where(F.col(\"page_title\").endswith(\".\"))\n",
    "    \n",
    "    ## \n",
    "    .select(\n",
    "        \"wiki_db\",\n",
    "        'page_title',\n",
    "    )\n",
    ")\n",
    "# show some examples\n",
    "df_pages.show(20,truncate=False)"
   ]
  },
  {
   "cell_type": "code",
   "execution_count": 10,
   "metadata": {},
   "outputs": [
    {
     "data": {
      "text/plain": [
       "4832"
      ]
     },
     "execution_count": 10,
     "metadata": {},
     "output_type": "execute_result"
    }
   ],
   "source": [
    "df_pages.count()"
   ]
  },
  {
   "cell_type": "code",
   "execution_count": null,
   "metadata": {},
   "outputs": [],
   "source": []
  },
  {
   "cell_type": "markdown",
   "metadata": {},
   "source": [
    "# Parsing the wikitext\n",
    "\n",
    "An entry in wiktionary can belong to different languages.\n",
    "\n",
    "For example [уст.](https://en.wiktionary.org/wiki/%D1%83%D1%81%D1%82.) is a page in English Wiktionary but assigned to Russian.\n",
    "\n",
    "For this, we need to extract the section titles from the wikitext."
   ]
  },
  {
   "cell_type": "code",
   "execution_count": 39,
   "metadata": {},
   "outputs": [],
   "source": [
    "@F.udf(returnType=T.ArrayType(T.StringType()))\n",
    "def get_languages(wikitext):\n",
    "    wikicode = mwparserfromhell.parse(wikitext)\n",
    "    sections = wikicode.get_sections(levels=[2],flat=True)\n",
    "    languages = [s.strip().strip(\"==\") for s in sections]\n",
    "    return languages"
   ]
  },
  {
   "cell_type": "code",
   "execution_count": 41,
   "metadata": {},
   "outputs": [
    {
     "name": "stdout",
     "output_type": "stream",
     "text": [
      "+------------+----------+-----------------------+\n",
      "|wiki_db     |page_title|languages              |\n",
      "+------------+----------+-----------------------+\n",
      "|enwiktionary|Subcomm.  |[English]              |\n",
      "|enwiktionary|astron.   |[English]              |\n",
      "|enwiktionary|ism.      |[Hungarian]            |\n",
      "|enwiktionary|add.      |[English]              |\n",
      "|enwiktionary|prisl.    |[Slovene]              |\n",
      "|enwiktionary|comp.     |[English]              |\n",
      "|enwiktionary|非...才...|[]                     |\n",
      "|enwiktionary|aschwed.  |[German]               |\n",
      "|enwiktionary|d.o.f.    |[English]              |\n",
      "|enwiktionary|urgerm.   |[German]               |\n",
      "|enwiktionary|C.Bssn.   |[English, French]      |\n",
      "|enwiktionary|Admin.    |[English]              |\n",
      "|enwiktionary|Gr.Tr.    |[German]               |\n",
      "|enwiktionary|Fg.       |[German, Italian]      |\n",
      "|enwiktionary|Z.O.Z.    |[]                     |\n",
      "|enwiktionary|พฤ.       |[Thai]                 |\n",
      "|enwiktionary|vars.     |[Translingual, Finnish]|\n",
      "|enwiktionary|E.        |[English]              |\n",
      "|enwiktionary|βοταν.    |[Greek]                |\n",
      "|enwiktionary|SovUk.    |[English]              |\n",
      "+------------+----------+-----------------------+\n",
      "only showing top 20 rows\n",
      "\n"
     ]
    }
   ],
   "source": [
    "## all wikipedia pages in the main namespace: \n",
    "## wiki_db, page_id, page_title, page_is_redirect\n",
    "df_pages = (\n",
    "    ## select table\n",
    "    spark.read.table('wmf.mediawiki_wikitext_current')\n",
    "    ## select snapshot\n",
    "    .where( F.col('snapshot') == snapshot )\n",
    "\n",
    "    ## filter wiki_dbs\n",
    "    .where(F.col(\"wiki_db\") == \"enwiktionary\")\n",
    "    # in case we want to get all wiktionaries\n",
    "#     .join(\n",
    "#         df_projects,\n",
    "#         on = \"wiki_db\",\n",
    "#         how = \"inner\"\n",
    "#     )\n",
    "    ## main namespace\n",
    "    .where(F.col('page_namespace') == 0 )\n",
    "\n",
    "    # TODO: add other punctuation symbols\n",
    "    .where(F.col(\"page_title\").endswith(\".\"))\n",
    "    \n",
    "    # check that there is a wikitext\n",
    "    .where(F.col(\"revision_text\").isNotNull())\n",
    "    .where(F.length(F.col(\"revision_text\")) > 0)    \n",
    "\n",
    "    # extract section titles (languages)\n",
    "    .withColumn(\"languages\", get_languages(F.col(\"revision_text\")) )\n",
    "    ## \n",
    "    .select(\n",
    "        \"wiki_db\",\n",
    "        \"page_title\",\n",
    "        \"languages\"\n",
    "    )\n",
    ")\n",
    "# show some examples\n",
    "df_pages.show(20,truncate=False)"
   ]
  },
  {
   "cell_type": "code",
   "execution_count": null,
   "metadata": {},
   "outputs": [],
   "source": []
  }
 ],
 "metadata": {
  "kernelspec": {
   "display_name": "venv_anaconda",
   "language": "python",
   "name": "venv_anaconda"
  },
  "language_info": {
   "codemirror_mode": {
    "name": "ipython",
    "version": 3
   },
   "file_extension": ".py",
   "mimetype": "text/x-python",
   "name": "python",
   "nbconvert_exporter": "python",
   "pygments_lexer": "ipython3",
   "version": "3.7.6"
  }
 },
 "nbformat": 4,
 "nbformat_minor": 4
}
