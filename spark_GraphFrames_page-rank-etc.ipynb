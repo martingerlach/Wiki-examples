{
 "cells": [
  {
   "cell_type": "markdown",
   "metadata": {},
   "source": [
    "## Summary: Graph and graphframes\n",
    "\n",
    "- build the hyperlink graph for a wikipedia resolving redirects\n",
    "- use graphframes to do graph-processing in spark\n",
    "    - for this we build a custom spark-env and install the graphframes packages for graph-processing."
   ]
  },
  {
   "cell_type": "code",
   "execution_count": 1,
   "metadata": {},
   "outputs": [
    {
     "name": "stderr",
     "output_type": "stream",
     "text": [
      "You are using wmfdata v1.0.1, but v1.0.3 is available.\n",
      "\n",
      "To update, run `pip install --upgrade git+https://github.com/neilpquinn/wmfdata/wmfdata.git@release`.\n",
      "\n",
      "To see the changes, refer to https://github.com/neilpquinn/wmfdata/blob/release/CHANGELOG.md\n"
     ]
    }
   ],
   "source": [
    "import os, sys\n",
    "import numpy as np\n",
    "import pandas as pd\n",
    "import wmfdata\n",
    "import json\n",
    "import bz2\n",
    "import datetime\n",
    "\n",
    "\n",
    "import wmfdata.spark as wmfspark\n",
    "import findspark\n",
    "findspark.init('/usr/lib/spark2')\n",
    "from pyspark.sql import SparkSession\n",
    "from pyspark.sql import functions as F, types as T, Window"
   ]
  },
  {
   "cell_type": "code",
   "execution_count": 2,
   "metadata": {},
   "outputs": [
    {
     "data": {
      "text/html": [
       "\n",
       "            <div>\n",
       "                <p><b>SparkSession - hive</b></p>\n",
       "                \n",
       "        <div>\n",
       "            <p><b>SparkContext</b></p>\n",
       "\n",
       "            <p><a href=\"http://stat1005.eqiad.wmnet:4043\">Spark UI</a></p>\n",
       "\n",
       "            <dl>\n",
       "              <dt>Version</dt>\n",
       "                <dd><code>v2.4.4</code></dd>\n",
       "              <dt>Master</dt>\n",
       "                <dd><code>yarn</code></dd>\n",
       "              <dt>AppName</dt>\n",
       "                <dd><code>Pyspark notebook</code></dd>\n",
       "            </dl>\n",
       "        </div>\n",
       "        \n",
       "            </div>\n",
       "        "
      ],
      "text/plain": [
       "<pyspark.sql.session.SparkSession at 0x7f6ac50a2ba8>"
      ]
     },
     "execution_count": 2,
     "metadata": {},
     "output_type": "execute_result"
    }
   ],
   "source": [
    "os.environ['PYSPARK_DRIVER_PYTHON'] = 'notebook'\n",
    "os.environ['PYSPARK_PYTHON'] = '/usr/bin/python3.5'\n",
    "\n",
    "spark_config = {\n",
    "    ## this configuration adds graphframes\n",
    "    'spark.driver.extraJavaOptions':\n",
    "        ' '.join('-D{}={}'.format(k, v) for k, v in {\n",
    "            'http.proxyHost': 'webproxy.eqiad.wmnet',\n",
    "            'http.proxyPort': '8080',\n",
    "            'https.proxyHost': 'webproxy.eqiad.wmnet',\n",
    "            'https.proxyPort': '8080',\n",
    "        }.items()),\n",
    "    'spark.jars.packages':'graphframes:graphframes:0.6.0-spark2.3-s_2.11'\n",
    "}\n",
    "\n",
    "\n",
    "spark = wmfspark.get_session(\n",
    "    app_name='Pyspark notebook',\n",
    "    extra_settings=spark_config\n",
    ")\n",
    "spark"
   ]
  },
  {
   "cell_type": "code",
   "execution_count": null,
   "metadata": {},
   "outputs": [],
   "source": []
  },
  {
   "cell_type": "markdown",
   "metadata": {},
   "source": [
    "## Dataframe with nodes and links\n",
    "\n",
    "We not only have to join pages and pagelinks table to get pageids for both source and target pages,\n",
    "but also join the redirects-table in order to resolve the redirect links"
   ]
  },
  {
   "cell_type": "code",
   "execution_count": 3,
   "metadata": {},
   "outputs": [],
   "source": [
    "## define wiki and snapshot for analysis\n",
    "wiki = 'swwiki'\n",
    "snapshot = '2020-05'"
   ]
  },
  {
   "cell_type": "code",
   "execution_count": 4,
   "metadata": {},
   "outputs": [],
   "source": [
    "## all pages in the main namespace (incl redirects)\n",
    "# page_id, page_title, page_is_redirect\n",
    "df_pages = (\n",
    "    ## select table\n",
    "    spark.read.table('wmf_raw.mediawiki_page')\n",
    "    ## select wiki project\n",
    "    .where( F.col('wiki_db') == wiki )\n",
    "    .where( F.col('snapshot') == snapshot )\n",
    "    ## main namespace\n",
    "    .where(F.col('page_namespace') == 0 )\n",
    "    .select('page_id','page_title','page_is_redirect')\n",
    ")"
   ]
  },
  {
   "cell_type": "code",
   "execution_count": 5,
   "metadata": {},
   "outputs": [],
   "source": [
    "## redirects table with page_ids from/to\n",
    "## we join the pages table to get page_id for the redirected-to page\n",
    "df_redirect = (\n",
    "    ## select table\n",
    "    spark.read.table('wmf_raw.mediawiki_redirect')\n",
    "    ## select wiki project\n",
    "    .where( F.col('wiki_db') == wiki )\n",
    "    .where( F.col('snapshot') == snapshot )\n",
    "    .where(F.col('rd_namespace') == 0 )\n",
    "    .select(\n",
    "        F.col('rd_from').alias('page_id_from'),\n",
    "        F.col('rd_title').alias('page_title_to')\n",
    "    )\n",
    "    .join(df_pages.withColumnRenamed('page_title','page_title_to'),on='page_title_to',how='inner')\n",
    "    .withColumnRenamed('page_id','page_id_to')\n",
    "    .select(\n",
    "        F.col('page_id_from').alias('rd_from'),\n",
    "        F.col('page_id_to').alias('rd_to')\n",
    "    )\n",
    ")"
   ]
  },
  {
   "cell_type": "code",
   "execution_count": 6,
   "metadata": {},
   "outputs": [],
   "source": [
    "## get the pagelinks table with page_id_from and page_id_to\n",
    "## only keep links starting from non-redirect pages\n",
    "## join pages-table to get page-ids for redirect-to pages\n",
    "df_links = (\n",
    "    ## select table\n",
    "    spark.read.table('wmf_raw.mediawiki_pagelinks')\n",
    "    ## select wiki project\n",
    "    .where( F.col('wiki_db') == wiki )\n",
    "    .where( F.col('snapshot') == snapshot )\n",
    "    \n",
    "    ## namespace of source and target page\n",
    "    .where(F.col('pl_from_namespace') == 0 )\n",
    "    .where(F.col('pl_namespace') == 0 )\n",
    "    \n",
    "    .withColumnRenamed('pl_from','page_id_from')\n",
    "    .withColumnRenamed('pl_title','page_title_to')\n",
    "    \n",
    "    ## only keep links that originate from a page that is not a redirect \n",
    "    ## by joining the pages-table with the non-redirect pages\n",
    "    .join(\n",
    "        df_pages.where(F.col('page_is_redirect')==0).withColumnRenamed('page_id','page_id_from'),\n",
    "        on = 'page_id_from',\n",
    "        how = 'left_semi'\n",
    "    )\n",
    "    ## map page_title_to page_id_to by joining the pages-df\n",
    "    .join(\n",
    "        df_pages.withColumnRenamed('page_title','page_title_to'),\n",
    "        on='page_title_to',\n",
    "        how='inner'\n",
    "    )\n",
    "    .withColumnRenamed('page_id','page_id_to')\n",
    "    .select('page_id_from','page_id_to')\n",
    ")"
   ]
  },
  {
   "cell_type": "code",
   "execution_count": 7,
   "metadata": {},
   "outputs": [
    {
     "name": "stdout",
     "output_type": "stream",
     "text": [
      "+------------+----------+\n",
      "|page_id_from|page_id_to|\n",
      "+------------+----------+\n",
      "|4181        |5800      |\n",
      "|75924       |7405      |\n",
      "|36228       |14888     |\n",
      "|36265       |14888     |\n",
      "|75982       |18504     |\n",
      "|21532       |21549     |\n",
      "|31037       |31066     |\n",
      "|5791        |34164     |\n",
      "|11112       |44649     |\n",
      "|82088       |69449     |\n",
      "+------------+----------+\n",
      "only showing top 10 rows\n",
      "\n"
     ]
    }
   ],
   "source": [
    "## resolve the redirects in the links-table by joining the redirect table\n",
    "df_links_resolved = (\n",
    "    df_links\n",
    "    ## join in the redirects\n",
    "    .join(\n",
    "        df_redirect,\n",
    "        df_links['page_id_to'] == df_redirect['rd_from'],\n",
    "        how = 'left_outer'\n",
    "    )\n",
    "    ## select the redirected link (otherwise keep the old)\n",
    "    .withColumn('page_id_to_resolved', F.coalesce(F.col('rd_to'),F.col('page_id_to')) )\n",
    "    .select(\n",
    "        F.col('page_id_from').alias('page_id_from'),\n",
    "        F.col('page_id_to_resolved').alias('page_id_to')\n",
    "    )\n",
    "    ## remove duplicate links\n",
    "    .distinct()\n",
    ")\n",
    "df_links_resolved.show(10,False)"
   ]
  },
  {
   "cell_type": "code",
   "execution_count": 8,
   "metadata": {},
   "outputs": [
    {
     "name": "stdout",
     "output_type": "stream",
     "text": [
      "+-------+--------------------+----------------+\n",
      "|page_id|          page_title|page_is_redirect|\n",
      "+-------+--------------------+----------------+\n",
      "|  13786|           Wafinisia|           false|\n",
      "|  14102|      Thomas_Sankara|           false|\n",
      "|  14109|    Picha_ya_kiwamba|           false|\n",
      "|  89034|Mia_saba_themanin...|           false|\n",
      "|  89052|          Paulo_Hanh|           false|\n",
      "|  89351|Elimu_kwa_watoto_...|           false|\n",
      "|   8043|            Kijapani|           false|\n",
      "|  39930|  Manchester_(maana)|           false|\n",
      "|  82614|             1997_KK|           false|\n",
      "| 107547|       Nyotabadilifu|           false|\n",
      "| 107639|    Mto_Siga_(Naili)|           false|\n",
      "|  10720|                1301|           false|\n",
      "|  42621|Orodha_ya_Mawazir...|           false|\n",
      "|  84324|Kanisa_la_Kiortho...|           false|\n",
      "|  84365|   Aspreno_wa_Napoli|           false|\n",
      "| 108930|   Kisiwa_cha_Makove|           false|\n",
      "| 108982|    Kisiwa_cha_Iriga|           false|\n",
      "| 109169|   Kisiwa_cha_Mlinzi|           false|\n",
      "|  30414|             Eminönü|           false|\n",
      "|  77190|            Kihaiǁom|           false|\n",
      "+-------+--------------------+----------------+\n",
      "only showing top 20 rows\n",
      "\n"
     ]
    }
   ],
   "source": [
    "## all nodes from the pages-table which appear in the links_resolved-table (from/to)\n",
    "\n",
    "df_pages_resolved = (\n",
    "    df_pages\n",
    "    .join(\n",
    "        df_links_resolved,\n",
    "        (df_pages['page_id'] == df_links_resolved['page_id_from']) | \n",
    "        (df_pages['page_id'] == df_links_resolved['page_id_to']),\n",
    "        how = 'left_semi'\n",
    "    )\n",
    "    .distinct()\n",
    ")\n",
    "df_pages_resolved.show()"
   ]
  },
  {
   "cell_type": "markdown",
   "metadata": {},
   "source": [
    "## Using graphframe to do graph-stuff with spark\n",
    "\n",
    "for graphframes we need a nodes dataframe and a links dataframe with a specific structure\n",
    "\n",
    "- the nodes need to have a column: 'id'\n",
    "- the edges need to have 2 columns: 'src', 'dst'\n"
   ]
  },
  {
   "cell_type": "code",
   "execution_count": 9,
   "metadata": {},
   "outputs": [],
   "source": [
    "from graphframes import *"
   ]
  },
  {
   "cell_type": "code",
   "execution_count": 10,
   "metadata": {},
   "outputs": [
    {
     "name": "stdout",
     "output_type": "stream",
     "text": [
      "+------+-------+--------------------+\n",
      "|    id|page_id|          page_title|\n",
      "+------+-------+--------------------+\n",
      "| 11937|  11937|                 473|\n",
      "| 11986|  11986|                 423|\n",
      "| 12120|  12120|                 304|\n",
      "| 12159|  12159|                 265|\n",
      "| 84324|  84324|Kanisa_la_Kiortho...|\n",
      "| 84365|  84365|   Aspreno_wa_Napoli|\n",
      "| 84495|  84495|      Mnjegere-kubwa|\n",
      "|108469| 108469|               Lenzi|\n",
      "| 85326|  85326|Mia_nne_na_hamsin...|\n",
      "| 85381|  85381|Mia_nne_na_tisini...|\n",
      "+------+-------+--------------------+\n",
      "only showing top 10 rows\n",
      "\n"
     ]
    }
   ],
   "source": [
    "## renaming columns for the nodes-df \n",
    "df_nodes = (\n",
    "    df_pages_resolved\n",
    "    .withColumn('id',F.col('page_id'))\n",
    "    .select('id','page_id','page_title')\n",
    ")\n",
    "df_nodes.show(10)"
   ]
  },
  {
   "cell_type": "code",
   "execution_count": 11,
   "metadata": {},
   "outputs": [
    {
     "name": "stdout",
     "output_type": "stream",
     "text": [
      "+------+------+\n",
      "|   src|   dst|\n",
      "+------+------+\n",
      "|  4181|  5800|\n",
      "| 75924|  7405|\n",
      "| 36228| 14888|\n",
      "| 36265| 14888|\n",
      "| 75982| 18504|\n",
      "| 21532| 21549|\n",
      "| 31037| 31066|\n",
      "|  5791| 34164|\n",
      "| 11112| 44649|\n",
      "| 82088| 69449|\n",
      "| 82176| 69449|\n",
      "| 81795| 69449|\n",
      "| 80471| 69449|\n",
      "| 91604|  4023|\n",
      "|  9938| 81337|\n",
      "| 84742| 84798|\n",
      "| 10431| 91727|\n",
      "| 71693|119355|\n",
      "| 96378|  1201|\n",
      "|120631|  1201|\n",
      "+------+------+\n",
      "only showing top 20 rows\n",
      "\n"
     ]
    }
   ],
   "source": [
    "## renaming columns for the edges-df \n",
    "df_edges = (\n",
    "    df_links_resolved\n",
    "    .withColumnRenamed('page_id_from','src')\n",
    "    .withColumnRenamed('page_id_to','dst')\n",
    ")\n",
    "df_edges.show()"
   ]
  },
  {
   "cell_type": "code",
   "execution_count": 12,
   "metadata": {},
   "outputs": [],
   "source": [
    "## create graph object\n",
    "g = GraphFrame(df_nodes, df_edges)"
   ]
  },
  {
   "cell_type": "code",
   "execution_count": 13,
   "metadata": {},
   "outputs": [
    {
     "name": "stdout",
     "output_type": "stream",
     "text": [
      "+------+-------+--------------------+\n",
      "|degree|page_id|          page_title|\n",
      "+------+-------+--------------------+\n",
      "| 10429|   1191|            Tanzania|\n",
      "|  9762|  14068|                Maji|\n",
      "|  8063|   5594|               Mwaka|\n",
      "|  7834|  93640|       Mito_ya_Kenya|\n",
      "|  6959|  93654|            Mto_Suam|\n",
      "|  6711|  12444|     Orodha_ya_Miaka|\n",
      "|  6443| 110205|Orodha_ya_mito_ya...|\n",
      "|  6388|   1676|               Kenya|\n",
      "|  6166|   3033|                 Mto|\n",
      "|  6047|  87732|          Umba_(mto)|\n",
      "|  6028|  92131|            Mto_Mara|\n",
      "|  6011|  92070|            Mto_Lumi|\n",
      "|  5942|  92229|      Ruvu_(Pangani)|\n",
      "|  5386|     65|              Madola|\n",
      "|  5327|   4023|            Marekani|\n",
      "|  5255|   1991|          Mto_Kagera|\n",
      "|  5092|   2184|                Nile|\n",
      "|  4860|   2185|Bahari_ya_Mediter...|\n",
      "|  4652|   2048|              Uganda|\n",
      "|  4360|   3736|Orodha_ya_Watakat...|\n",
      "+------+-------+--------------------+\n",
      "only showing top 20 rows\n",
      "\n"
     ]
    }
   ],
   "source": [
    "## get degree of each nodes from high to low\n",
    "deg = g.degrees.sort(F.col('degree'),ascending=False)\n",
    "## join the page title\n",
    "(deg.join(df_nodes,deg['id']==df_nodes['page_id'])\n",
    "    .select('degree','page_id','page_title')\n",
    "    .sort('degree',ascending=False)\n",
    "    .show()\n",
    ")"
   ]
  },
  {
   "cell_type": "code",
   "execution_count": null,
   "metadata": {},
   "outputs": [],
   "source": [
    "## get page rank for each node from high to low\n",
    "pr = g.pageRank(resetProbability=0.15, tol=0.01)\n",
    "pr.vertices.sort('pagerank',ascending=False).show()"
   ]
  },
  {
   "cell_type": "code",
   "execution_count": null,
   "metadata": {},
   "outputs": [],
   "source": []
  }
 ],
 "metadata": {
  "kernelspec": {
   "display_name": "ven_wmfdata",
   "language": "python",
   "name": "ven_wmfdata"
  },
  "language_info": {
   "codemirror_mode": {
    "name": "ipython",
    "version": 3
   },
   "file_extension": ".py",
   "mimetype": "text/x-python",
   "name": "python",
   "nbconvert_exporter": "python",
   "pygments_lexer": "ipython3",
   "version": "3.5.3"
  }
 },
 "nbformat": 4,
 "nbformat_minor": 2
}
