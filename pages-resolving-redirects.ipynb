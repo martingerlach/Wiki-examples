{
 "cells": [
  {
   "cell_type": "markdown",
   "metadata": {},
   "source": [
    "# Resolving redirects in Wikipedia\n",
    "\n",
    "A common problem when working with pages in Wikipedia is to resolve redirects.\n",
    "For example, when working with pageview-data (e.g. in webrequests) the page-title of the request is the title of a page redirecting to a different page. \n",
    "\n",
    "Here, we show a procedure how to resolve those using the page-, and redirects- table.\n",
    "\n",
    "For enwiki, there are more redirect-pages (9.7M) than non-redirect pages (6.3M)"
   ]
  },
  {
   "cell_type": "markdown",
   "metadata": {},
   "source": [
    "## Starting a session in spark"
   ]
  },
  {
   "cell_type": "code",
   "execution_count": 1,
   "metadata": {},
   "outputs": [
    {
     "name": "stderr",
     "output_type": "stream",
     "text": [
      "PySpark executors will use /usr/lib/anaconda-wmf/bin/python3.\n"
     ]
    },
    {
     "data": {
      "text/html": [
       "\n",
       "            <div>\n",
       "                <p><b>SparkSession - hive</b></p>\n",
       "                \n",
       "        <div>\n",
       "            <p><b>SparkContext</b></p>\n",
       "\n",
       "            <p><a href=\"http://stat1008.eqiad.wmnet:4041\">Spark UI</a></p>\n",
       "\n",
       "            <dl>\n",
       "              <dt>Version</dt>\n",
       "                <dd><code>v2.4.4</code></dd>\n",
       "              <dt>Master</dt>\n",
       "                <dd><code>yarn</code></dd>\n",
       "              <dt>AppName</dt>\n",
       "                <dd><code>Pyspark notebook</code></dd>\n",
       "            </dl>\n",
       "        </div>\n",
       "        \n",
       "            </div>\n",
       "        "
      ],
      "text/plain": [
       "<pyspark.sql.session.SparkSession at 0x7fb196100790>"
      ]
     },
     "execution_count": 1,
     "metadata": {},
     "output_type": "execute_result"
    }
   ],
   "source": [
    "import os, sys\n",
    "import datetime\n",
    "import calendar\n",
    "import time\n",
    "import string\n",
    "import random\n",
    "\n",
    "import findspark\n",
    "findspark.init('/usr/lib/spark2')\n",
    "from pyspark.sql import SparkSession\n",
    "from pyspark.sql import functions as F, types as T, Window\n",
    "import wmfdata.spark as wmfspark\n",
    "\n",
    "## defining the spark session\n",
    "spark_config = {}\n",
    "spark = wmfspark.get_session(\n",
    "    app_name='Pyspark notebook', \n",
    "    type='regular'\n",
    "#     extra_settings=spark_config\n",
    ")\n",
    "spark"
   ]
  },
  {
   "cell_type": "markdown",
   "metadata": {},
   "source": [
    "## Loading the tables we will need\n"
   ]
  },
  {
   "cell_type": "code",
   "execution_count": 2,
   "metadata": {},
   "outputs": [],
   "source": [
    "## define a snapshot\n",
    "snapshot = \"2021-09\""
   ]
  },
  {
   "cell_type": "code",
   "execution_count": 3,
   "metadata": {},
   "outputs": [
    {
     "name": "stdout",
     "output_type": "stream",
     "text": [
      "+-------+\n",
      "|wiki_db|\n",
      "+-------+\n",
      "| abwiki|\n",
      "|acewiki|\n",
      "|adywiki|\n",
      "| afwiki|\n",
      "| akwiki|\n",
      "|alswiki|\n",
      "|altwiki|\n",
      "| amwiki|\n",
      "|angwiki|\n",
      "| anwiki|\n",
      "|arcwiki|\n",
      "| arwiki|\n",
      "|arywiki|\n",
      "|arzwiki|\n",
      "|astwiki|\n",
      "| aswiki|\n",
      "|atjwiki|\n",
      "|avkwiki|\n",
      "| avwiki|\n",
      "|awawiki|\n",
      "+-------+\n",
      "only showing top 20 rows\n",
      "\n"
     ]
    }
   ],
   "source": [
    "## get a list of all wikipedia-projects (e.g. not wikidata)\n",
    "df_projects = (\n",
    "    spark.read.table('wmf_raw.mediawiki_project_namespace_map')\n",
    "    .where(F.col(\"snapshot\") == snapshot)\n",
    "    .where(F.col(\"hostname\").contains(\"wikipedia\"))\n",
    "    .select(F.col(\"dbname\").alias(\"wiki_db\"))\n",
    "    .distinct()\n",
    ")\n",
    "df_projects.orderBy(\"wiki_db\").show()"
   ]
  },
  {
   "cell_type": "code",
   "execution_count": 4,
   "metadata": {},
   "outputs": [
    {
     "name": "stdout",
     "output_type": "stream",
     "text": [
      "+-------+-------+--------------------+----------------+\n",
      "|wiki_db|page_id|          page_title|page_is_redirect|\n",
      "+-------+-------+--------------------+----------------+\n",
      "| enwiki|8607168|    Ettenheimmunster|            true|\n",
      "| enwiki|8607178|     Fungus_Among_Us|           false|\n",
      "| enwiki|8607180|   Ettenheimmuenster|            true|\n",
      "| enwiki|8607184|  Chouseishin_series|            true|\n",
      "| enwiki|8607185|   The_Eagle_(album)|           false|\n",
      "| enwiki|8607188|      Rottenmuenster|            true|\n",
      "| enwiki|8607190|Child's_Play_(Sta...|           false|\n",
      "| enwiki|8607196|       Rottenmunster|            true|\n",
      "| enwiki|8607201|       Rottenmünster|            true|\n",
      "| enwiki|8607209|Child’s_Play_(Voy...|            true|\n",
      "| enwiki|8607212|           Saltfjell|            true|\n",
      "| enwiki|8607215|  Menachem_Elimelech|           false|\n",
      "| enwiki|8607226|       Trevor_Womble|           false|\n",
      "| enwiki|8607230|         Roger_Depue|           false|\n",
      "| enwiki|8607231|Adventures_in_Goo...|            true|\n",
      "| enwiki|8607236|Charles_bell_(pai...|            true|\n",
      "| enwiki|8607240|      Hiros_(Heroes)|            true|\n",
      "| enwiki|8607248|Ruff_Rhymes:_Grea...|           false|\n",
      "| enwiki|8607253|  The_Overlook_Hotel|            true|\n",
      "| enwiki|8607262|         Spy_Buddies|            true|\n",
      "+-------+-------+--------------------+----------------+\n",
      "only showing top 20 rows\n",
      "\n"
     ]
    }
   ],
   "source": [
    "## all wikipedia pages in the main namespace: \n",
    "## wiki_db, page_id, page_title, page_is_redirect\n",
    "df_pages = (\n",
    "    ## select table\n",
    "    spark.read.table('wmf_raw.mediawiki_page')\n",
    "    ## select snapshot\n",
    "    .where( F.col('snapshot') == snapshot )\n",
    "    ## filter wikipedias\n",
    "    .join(\n",
    "        df_projects,\n",
    "        on = \"wiki_db\",\n",
    "        how = \"inner\"\n",
    "    )\n",
    "    ## main namespace\n",
    "    .where(F.col('page_namespace') == 0 )\n",
    "    .select(\n",
    "        \"wiki_db\",\n",
    "        'page_id',\n",
    "        'page_title',\n",
    "        'page_is_redirect',\n",
    "    )\n",
    ")\n",
    "# show some examples\n",
    "df_pages.where(F.col(\"wiki_db\")==\"enwiki\").show()"
   ]
  },
  {
   "cell_type": "code",
   "execution_count": 5,
   "metadata": {},
   "outputs": [
    {
     "name": "stdout",
     "output_type": "stream",
     "text": [
      "+-------+------------+--------------------+\n",
      "|wiki_db|page_id_from|       page_title_to|\n",
      "+-------+------------+--------------------+\n",
      "| enwiki|    43035845|    Australian_Party|\n",
      "| enwiki|    43035846|William_&_Mary_La...|\n",
      "| enwiki|    43035856|              I-Tree|\n",
      "| enwiki|    43035858|Nehanda_Charwe_Ny...|\n",
      "| enwiki|    43035863|Nehanda_Charwe_Ny...|\n",
      "| enwiki|    43035910|              Kirkuk|\n",
      "| enwiki|    43035919|   Chollima_Movement|\n",
      "| enwiki|    43035928|            Kalinago|\n",
      "| enwiki|    43035938|French_Internatio...|\n",
      "| enwiki|    43035970|          Alan_Moore|\n",
      "| enwiki|    43036017|International_League|\n",
      "| enwiki|    43036034|      Bianca_(grape)|\n",
      "| enwiki|    43036042|Allegheny_Center_...|\n",
      "| enwiki|    43036061|         Đuro_Kurepa|\n",
      "| enwiki|    43036062|         Đuro_Kurepa|\n",
      "| enwiki|    43036063|Christian_Democra...|\n",
      "| enwiki|    43036065|         Viticulture|\n",
      "| enwiki|    43036107|Maghrebi_communit...|\n",
      "| enwiki|    43036171|Parshuram_Temple,...|\n",
      "| enwiki|    43036174|Hengyang–Liuzhou_...|\n",
      "+-------+------------+--------------------+\n",
      "only showing top 20 rows\n",
      "\n"
     ]
    }
   ],
   "source": [
    "## the redirect table containing all the redirects.\n",
    "## wiki_db, page_id_from, page_title_to\n",
    "df_redirect = (\n",
    "    ## select table\n",
    "    spark.read.table('wmf_raw.mediawiki_redirect')\n",
    "    ## select snapshot\n",
    "    .where( F.col('snapshot') == snapshot )\n",
    "    ## filter wikipedias\n",
    "    .join(\n",
    "        df_projects,\n",
    "        on = \"wiki_db\",\n",
    "        how = \"inner\"\n",
    "    )\n",
    "    ## main namespace\n",
    "    .where(F.col('rd_namespace') == 0 )\n",
    "    .select(\n",
    "        F.col(\"wiki_db\"),\n",
    "        F.col('rd_from').alias('page_id_from'),\n",
    "        F.col('rd_title').alias('page_title_to')\n",
    "    )\n",
    ")\n",
    "df_redirect.where(F.col(\"wiki_db\")==\"enwiki\").show()"
   ]
  },
  {
   "cell_type": "markdown",
   "metadata": {},
   "source": [
    "## Resolving the page-ids and page-titles\n",
    "\n",
    "We will get a table with all pages in wikipedia, i.e. adding new columns \"page_id_resolved\" and \"page_title_resolved\" containing page-id and page-title of the redirected page.\n",
    "\n",
    "Some redirects point to pages that are still marked as \"page_is_redirect\"=True. Those are dropped from the table."
   ]
  },
  {
   "cell_type": "code",
   "execution_count": 6,
   "metadata": {},
   "outputs": [],
   "source": [
    "## Resolving the pages table:\n",
    "## wiki_db, page_id, page_title, page_is_redirect, page_id_resolved, page_title_resolved\n",
    "df_pages_resolved = (\n",
    "    df_pages\n",
    "    ## join the redirect-table: pid_from --> page_title_to\n",
    "    ## this adds a new column \"page_title_to\" for all pages that a redirect\n",
    "    .join(\n",
    "        df_redirect.withColumnRenamed(\"page_id_from\",\"page_id\"),\n",
    "        on = [\"wiki_db\",\"page_id\"],\n",
    "        how = \"left\"\n",
    "    )\n",
    "    ## create a new column page_title_resolved\n",
    "    .withColumn('page_title_resolved', F.coalesce(F.col('page_title_to'),F.col('page_title')) )\n",
    "    ## join the page-table to get page-ids from titles (not resolved)\n",
    "    .join(\n",
    "        (df_pages\n",
    "         .withColumnRenamed(\"page_title\",\"page_title_resolved\")\n",
    "         .withColumnRenamed(\"page_id\",\"page_id_resolved\")\n",
    "         .withColumnRenamed(\"page_is_redirect\",\"page_is_redirect_resolved\")\n",
    "        ),\n",
    "        on = [\"wiki_db\",\"page_title_resolved\"],\n",
    "        how = \"left\"\n",
    "    )\n",
    "    ## only keep pages that are not a redirect after resolving anymore\n",
    "    .where(F.col(\"page_is_redirect_resolved\")==False)\n",
    "    .select(\n",
    "        \"wiki_db\",\n",
    "        \"page_id\",\n",
    "        \"page_title\",\n",
    "        \"page_is_redirect\",\n",
    "        \"page_id_resolved\",\n",
    "        \"page_title_resolved\",\n",
    "    )\n",
    ")\n"
   ]
  },
  {
   "cell_type": "markdown",
   "metadata": {},
   "source": [
    "## Some examples"
   ]
  },
  {
   "cell_type": "markdown",
   "metadata": {},
   "source": [
    "### all wikis"
   ]
  },
  {
   "cell_type": "code",
   "execution_count": 7,
   "metadata": {},
   "outputs": [
    {
     "data": {
      "text/plain": [
       "105554713"
      ]
     },
     "execution_count": 7,
     "metadata": {},
     "output_type": "execute_result"
    }
   ],
   "source": [
    "## number of pages in all wikipedia\n",
    "df_pages_resolved.count()"
   ]
  },
  {
   "cell_type": "code",
   "execution_count": 8,
   "metadata": {},
   "outputs": [
    {
     "data": {
      "text/plain": [
       "48193836"
      ]
     },
     "execution_count": 8,
     "metadata": {},
     "output_type": "execute_result"
    }
   ],
   "source": [
    "## number of redirects in all wikis\n",
    "df_pages_resolved.where(F.col(\"page_is_redirect\")==True).count()"
   ]
  },
  {
   "cell_type": "markdown",
   "metadata": {},
   "source": [
    "### enwiki"
   ]
  },
  {
   "cell_type": "code",
   "execution_count": 11,
   "metadata": {},
   "outputs": [
    {
     "data": {
      "text/plain": [
       "16093400"
      ]
     },
     "execution_count": 11,
     "metadata": {},
     "output_type": "execute_result"
    }
   ],
   "source": [
    "## number of pages in enwiki\n",
    "df_pages_resolved.where(F.col(\"wiki_db\")==\"enwiki\").count()"
   ]
  },
  {
   "cell_type": "code",
   "execution_count": 9,
   "metadata": {},
   "outputs": [
    {
     "data": {
      "text/plain": [
       "9707804"
      ]
     },
     "execution_count": 9,
     "metadata": {},
     "output_type": "execute_result"
    }
   ],
   "source": [
    "## number of redirect-pages in enwiki\n",
    "df_pages_resolved.where(F.col(\"wiki_db\")==\"enwiki\").where(F.col(\"page_is_redirect\")==True).count()"
   ]
  },
  {
   "cell_type": "code",
   "execution_count": 10,
   "metadata": {},
   "outputs": [
    {
     "name": "stdout",
     "output_type": "stream",
     "text": [
      "+-------+--------+--------------------+----------------+----------------+--------------------+\n",
      "|wiki_db| page_id|          page_title|page_is_redirect|page_id_resolved| page_title_resolved|\n",
      "+-------+--------+--------------------+----------------+----------------+--------------------+\n",
      "| enwiki|38059831|\"Ridgeriders\"_In_...|            true|        35511155|\"Ridgeriders\"_in_...|\n",
      "| enwiki|44367915|          +1_records|            true|        34834673|          +1_Records|\n",
      "| enwiki|13586449|Allow_us_to_be_frank|            true|         6929308|...Allow_Us_to_Be...|\n",
      "| enwiki|52197614|Allow_Us_to_Be_Frank|            true|         6929308|...Allow_Us_to_Be...|\n",
      "| enwiki| 6929327|Allow_Us_To_Be_Frank|            true|         6929308|...Allow_Us_to_Be...|\n",
      "| enwiki|59584119|          ..._So_Far|            true|        59583941|           ...So_Far|\n",
      "| enwiki|32590257|1,1,1,-Trichloroe...|            true|          302493|1,1,1-Trichloroet...|\n",
      "| enwiki| 7689431|1,1,1-trichloroet...|            true|          302493|1,1,1-Trichloroet...|\n",
      "| enwiki| 4029767|   Methyl_chloroform|            true|          302493|1,1,1-Trichloroet...|\n",
      "| enwiki|36118958|1,1,1,-trichloroe...|            true|          302493|1,1,1-Trichloroet...|\n",
      "| enwiki|10817400|             CH3CCL3|            true|          302493|1,1,1-Trichloroet...|\n",
      "| enwiki| 2590905|            Genklene|            true|          302493|1,1,1-Trichloroet...|\n",
      "| enwiki|19755492|         Chlorothene|            true|          302493|1,1,1-Trichloroet...|\n",
      "| enwiki|  304151|         Solvent_111|            true|          302493|1,1,1-Trichloroet...|\n",
      "| enwiki|67582440|             CH3CCl3|            true|          302493|1,1,1-Trichloroet...|\n",
      "| enwiki| 4027437|           1,1,1-TCA|            true|          302493|1,1,1-Trichloroet...|\n",
      "| enwiki|37280111|Trans-1,4-Dichlor...|            true|        24032677|1,4-Dichlorobut-2...|\n",
      "| enwiki|41189624|      Dichlorobutene|            true|        24032677|1,4-Dichlorobut-2...|\n",
      "| enwiki|41189576|Trans-1,4-dichlor...|            true|        24032677|1,4-Dichlorobut-2...|\n",
      "| enwiki|50133067|1-pyrroline-4-hyd...|            true|        14501529|1-pyrroline-4-hyd...|\n",
      "+-------+--------+--------------------+----------------+----------------+--------------------+\n",
      "only showing top 20 rows\n",
      "\n"
     ]
    }
   ],
   "source": [
    "## some example of the redirects in enwiki\n",
    "df_pages_resolved.where(F.col(\"wiki_db\")==\"enwiki\").where(F.col(\"page_is_redirect\")==True).show()"
   ]
  },
  {
   "cell_type": "code",
   "execution_count": null,
   "metadata": {},
   "outputs": [],
   "source": []
  }
 ],
 "metadata": {
  "kernelspec": {
   "display_name": "venv_anaconda",
   "language": "python",
   "name": "venv_anaconda"
  },
  "language_info": {
   "codemirror_mode": {
    "name": "ipython",
    "version": 3
   },
   "file_extension": ".py",
   "mimetype": "text/x-python",
   "name": "python",
   "nbconvert_exporter": "python",
   "pygments_lexer": "ipython3",
   "version": "3.7.6"
  }
 },
 "nbformat": 4,
 "nbformat_minor": 4
}
