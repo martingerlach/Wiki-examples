{
 "cells": [
  {
   "cell_type": "markdown",
   "metadata": {},
   "source": [
    "# Table with all pages in the main namespace resolving redirects\n"
   ]
  },
  {
   "cell_type": "markdown",
   "metadata": {},
   "source": [
    "## Starting spark session"
   ]
  },
  {
   "cell_type": "code",
   "execution_count": 1,
   "metadata": {},
   "outputs": [
    {
     "name": "stderr",
     "output_type": "stream",
     "text": [
      "PySpark executors will use /usr/lib/anaconda-wmf/bin/python3.\n"
     ]
    },
    {
     "data": {
      "text/html": [
       "\n",
       "            <div>\n",
       "                <p><b>SparkSession - hive</b></p>\n",
       "                \n",
       "        <div>\n",
       "            <p><b>SparkContext</b></p>\n",
       "\n",
       "            <p><a href=\"http://stat1008.eqiad.wmnet:4044\">Spark UI</a></p>\n",
       "\n",
       "            <dl>\n",
       "              <dt>Version</dt>\n",
       "                <dd><code>v2.4.4</code></dd>\n",
       "              <dt>Master</dt>\n",
       "                <dd><code>yarn</code></dd>\n",
       "              <dt>AppName</dt>\n",
       "                <dd><code>Pyspark notebook</code></dd>\n",
       "            </dl>\n",
       "        </div>\n",
       "        \n",
       "            </div>\n",
       "        "
      ],
      "text/plain": [
       "<pyspark.sql.session.SparkSession at 0x7f8f260d15d0>"
      ]
     },
     "execution_count": 1,
     "metadata": {},
     "output_type": "execute_result"
    }
   ],
   "source": [
    "import os, sys\n",
    "import datetime\n",
    "import calendar\n",
    "import time\n",
    "import string\n",
    "import random\n",
    "\n",
    "import findspark\n",
    "findspark.init('/usr/lib/spark2')\n",
    "from pyspark.sql import SparkSession\n",
    "from pyspark.sql import functions as F, types as T, Window\n",
    "import wmfdata.spark as wmfspark\n",
    "\n",
    "## defining the spark session\n",
    "spark_config = {}\n",
    "spark = wmfspark.get_session(\n",
    "    app_name='Pyspark notebook', \n",
    "    type='regular'\n",
    "#     extra_settings=spark_config\n",
    ")\n",
    "spark"
   ]
  },
  {
   "cell_type": "markdown",
   "metadata": {},
   "source": [
    "# Generating the table with pages and their redirects\n",
    "\n",
    "We get a table with all main namespace articles:\n",
    "- wiki_db\n",
    "- page_id\n",
    "- page_title\n",
    "- page_is_redirect,\n",
    "- page_id_resolved,\n",
    "- page_title_resolved\n",
    "    \n",
    "    \n",
    "Page-titles contain underscores!!!"
   ]
  },
  {
   "cell_type": "code",
   "execution_count": 2,
   "metadata": {},
   "outputs": [],
   "source": [
    "## selecting the snapshot and wikidb\n",
    "snapshot = \"2022-01\""
   ]
  },
  {
   "cell_type": "code",
   "execution_count": 3,
   "metadata": {},
   "outputs": [],
   "source": [
    "## running the query and saving the table\n",
    "\n",
    "## get a list of all wikipedia-projects (e.g. not wikidata)\n",
    "df_projects = (\n",
    "    spark.read.table('wmf_raw.mediawiki_project_namespace_map')\n",
    "    .where(F.col(\"snapshot\") == snapshot)\n",
    "    .where(F.col(\"hostname\").contains(\"wikipedia\"))\n",
    "    .select(F.col(\"dbname\").alias(\"wiki_db\"))\n",
    "    .distinct()\n",
    ")\n",
    "\n",
    "df_pages = (\n",
    "    ## select table\n",
    "    spark.read.table('wmf_raw.mediawiki_page')\n",
    "    ## select snapshot\n",
    "    .where( F.col('snapshot') == snapshot )\n",
    "    ## filter wikipedias\n",
    "    .join(\n",
    "        df_projects,\n",
    "        on = \"wiki_db\",\n",
    "        how = \"inner\"\n",
    "    )\n",
    "    \n",
    "    ## main namespace\n",
    "    .where(F.col('page_namespace') == 0 )\n",
    "    .select(\n",
    "        \"wiki_db\",\n",
    "        'page_id',\n",
    "        'page_title',\n",
    "        'page_is_redirect',\n",
    "    )\n",
    ")\n",
    "df_redirect = (\n",
    "    ## select table\n",
    "    spark.read.table('wmf_raw.mediawiki_redirect')\n",
    "    ## select snapshot\n",
    "    .where( F.col('snapshot') == snapshot )\n",
    "    ## filter wikipedias\n",
    "    .join(\n",
    "        df_projects,\n",
    "        on = \"wiki_db\",\n",
    "        how = \"inner\"\n",
    "    )\n",
    "    ## main namespace\n",
    "    .where(F.col('rd_namespace') == 0 )\n",
    "    .select(\n",
    "        F.col(\"wiki_db\"),\n",
    "        F.col('rd_from').alias('page_id_from'),\n",
    "        F.col('rd_title').alias('page_title_to')\n",
    "    )\n",
    ")\n",
    "\n",
    "## wiki_db, page_id, page_title, page_is_redirect, page_id_resolved, page_title_resolved\n",
    "df_pages_resolved = (\n",
    "    df_pages\n",
    "    ## join the redirect-table: pid_from --> page_title_to\n",
    "    ## this adds a new column \"page_title_to\" for all pages that a redirect\n",
    "    .join(\n",
    "        df_redirect.withColumnRenamed(\"page_id_from\",\"page_id\"),\n",
    "        on = [\"wiki_db\",\"page_id\"],\n",
    "        how = \"left\"\n",
    "    )\n",
    "    ## create a new column page_title_resolved\n",
    "    .withColumn('page_title_resolved', F.coalesce(F.col('page_title_to'),F.col('page_title')) )\n",
    "    ## join the page-table to get page-ids from titles (not resolved)\n",
    "    .join(\n",
    "        (df_pages\n",
    "         .withColumnRenamed(\"page_title\",\"page_title_resolved\")\n",
    "         .withColumnRenamed(\"page_id\",\"page_id_resolved\")\n",
    "         .withColumnRenamed(\"page_is_redirect\",\"page_is_redirect_resolved\")\n",
    "        ),\n",
    "        on = [\"wiki_db\",\"page_title_resolved\"],\n",
    "        how = \"left\"\n",
    "    )\n",
    "    ## only keep pages that are not a redirect after resolving anymore\n",
    "    .where(F.col(\"page_is_redirect_resolved\")==False)\n",
    "    .select(\n",
    "        \"wiki_db\",\n",
    "        \"page_id\",\n",
    "        \"page_title\",\n",
    "        \"page_is_redirect\",\n",
    "        \"page_id_resolved\",\n",
    "        \"page_title_resolved\",\n",
    "    )\n",
    ")\n",
    "\n",
    "fname_save = \"pages-titles-resolved_all-wikis_%s\"%(snapshot)\n",
    "df_pages_resolved.write.mode(\"overwrite\").parquet(fname_save)"
   ]
  },
  {
   "cell_type": "code",
   "execution_count": null,
   "metadata": {},
   "outputs": [],
   "source": []
  },
  {
   "cell_type": "markdown",
   "metadata": {},
   "source": [
    "# Check result"
   ]
  },
  {
   "cell_type": "markdown",
   "metadata": {},
   "source": [
    "### Load the table"
   ]
  },
  {
   "cell_type": "code",
   "execution_count": 4,
   "metadata": {},
   "outputs": [
    {
     "name": "stdout",
     "output_type": "stream",
     "text": [
      "+-------+-------+--------------------+----------------+----------------+--------------------+\n",
      "|wiki_db|page_id|          page_title|page_is_redirect|page_id_resolved| page_title_resolved|\n",
      "+-------+-------+--------------------+----------------+----------------+--------------------+\n",
      "| abwiki|   4337|                  37|           false|            4337|                  37|\n",
      "| abwiki|   9724|                Хәба|            true|            4243|     5_(ахыԥхьаӡара)|\n",
      "| abwiki|  18565|     5_(ахыҧхьаӡара)|            true|            4243|     5_(ахыԥхьаӡара)|\n",
      "| abwiki|   6676|                Хуба|            true|            4243|     5_(ахыԥхьаӡара)|\n",
      "| abwiki|   4243|     5_(ахыԥхьаӡара)|           false|            4243|     5_(ахыԥхьаӡара)|\n",
      "| abwiki|   8702|                 743|           false|            8702|                 743|\n",
      "| abwiki|   8766|                 807|           false|            8766|                 807|\n",
      "| abwiki|  18099|                   Χ|           false|           18099|                   Χ|\n",
      "| abwiki|  15994|  Атлантикатә_аокеан|           false|           15994|  Атлантикатә_аокеан|\n",
      "| abwiki|   9848|   Египеттәи_абызшәа|           false|            9848|   Египеттәи_абызшәа|\n",
      "| abwiki|  24346|Лагәлаа,_Анатоли_...|           false|           24346|Лагәлаа,_Анатоли_...|\n",
      "| abwiki|  20036|          Ҳ._ҟ._1012|           false|           20036|          Ҳ._ҟ._1012|\n",
      "| abwiki|  20083|          Ҳ._ҟ._1059|           false|           20083|          Ҳ._ҟ._1059|\n",
      "| abwiki|  20483|          Ҳ._ҟ._1455|           false|           20483|          Ҳ._ҟ._1455|\n",
      "| abwiki|  19616|           Ҳ._ҟ._592|           false|           19616|           Ҳ._ҟ._592|\n",
      "| abwiki|  19660|           Ҳ._ҟ._636|           false|           19660|           Ҳ._ҟ._636|\n",
      "| abwiki|  19072|            Ҳ._ҟ._75|           false|           19072|            Ҳ._ҟ._75|\n",
      "| abwiki|   2523|               Ӷәада|           false|            2523|               Ӷәада|\n",
      "| abwiki|  26471|               Ҕәада|            true|            2523|               Ӷәада|\n",
      "|acewiki|   1502|   Al-Kuwait_(Banda)|            true|            1226|   Al-Kuwait_(banda)|\n",
      "+-------+-------+--------------------+----------------+----------------+--------------------+\n",
      "only showing top 20 rows\n",
      "\n"
     ]
    }
   ],
   "source": [
    "snapshot = \"2022-01\"\n",
    "fname_read = \"pages-titles-resolved_all-wikis_%s\"%(snapshot)\n",
    "df = spark.read.parquet(fname_read)\n",
    "df.show()"
   ]
  },
  {
   "cell_type": "code",
   "execution_count": 5,
   "metadata": {},
   "outputs": [
    {
     "data": {
      "text/plain": [
       "107084049"
      ]
     },
     "execution_count": 5,
     "metadata": {},
     "output_type": "execute_result"
    }
   ],
   "source": [
    "## total number of pages across all wikis\n",
    "df.count()"
   ]
  },
  {
   "cell_type": "markdown",
   "metadata": {},
   "source": [
    "### check the enwiki-table"
   ]
  },
  {
   "cell_type": "code",
   "execution_count": 6,
   "metadata": {},
   "outputs": [
    {
     "name": "stdout",
     "output_type": "stream",
     "text": [
      "+-------+--------+--------------------+----------------+----------------+--------------------+\n",
      "|wiki_db| page_id|          page_title|page_is_redirect|page_id_resolved| page_title_resolved|\n",
      "+-------+--------+--------------------+----------------+----------------+--------------------+\n",
      "| enwiki|55029148|!!!_(disambiguation)|           false|        55029148|!!!_(disambiguation)|\n",
      "| enwiki|12359213|   \"Bufo\"_scorteccii|           false|        12359213|   \"Bufo\"_scorteccii|\n",
      "| enwiki|66740517|    Scortecci's_toad|            true|        12359213|   \"Bufo\"_scorteccii|\n",
      "| enwiki|67240880|     Bufo_scorteccii|            true|        12359213|   \"Bufo\"_scorteccii|\n",
      "| enwiki|66740701|Duttaphrynus_scor...|            true|        12359213|   \"Bufo\"_scorteccii|\n",
      "| enwiki|49353393|`Abd_ar-Rahman_ib...|            true|        31708220|'Abd_ar-Rahman_ib...|\n",
      "| enwiki|31708220|'Abd_ar-Rahman_ib...|           false|        31708220|'Abd_ar-Rahman_ib...|\n",
      "| enwiki|31707369|Abd_ar-Rahman_ibn...|            true|        31708220|'Abd_ar-Rahman_ib...|\n",
      "| enwiki|34512239|Ali_ibn_al-Husayn...|            true|        34512235|'Ali_ibn_al-Husay...|\n",
      "| enwiki|34512235|'Ali_ibn_al-Husay...|           false|        34512235|'Ali_ibn_al-Husay...|\n",
      "| enwiki|53538524|         'SaliveOne!|           false|        53538524|         'SaliveOne!|\n",
      "| enwiki|25569189|   (386723)_2009_YE7|           false|        25569189|   (386723)_2009_YE7|\n",
      "| enwiki|42388126|            2009_YE7|            true|        25569189|   (386723)_2009_YE7|\n",
      "| enwiki|39502417|(2E,6E)-farnesyl-...|            true|        39502409|(3R,6E)-nerolidol...|\n",
      "| enwiki|39502414|  Terpene_synthase_1|            true|        39502409|(3R,6E)-nerolidol...|\n",
      "| enwiki|39502409|(3R,6E)-nerolidol...|           false|        39502409|(3R,6E)-nerolidol...|\n",
      "| enwiki|39502412|         EC_4.2.3.49|            true|        39502409|(3R,6E)-nerolidol...|\n",
      "| enwiki|  574184|   (433953)_1997_XR2|           false|          574184|   (433953)_1997_XR2|\n",
      "| enwiki| 2358137|            1997_XR₂|            true|          574184|   (433953)_1997_XR2|\n",
      "| enwiki|47106830|            1997_XR2|            true|          574184|   (433953)_1997_XR2|\n",
      "+-------+--------+--------------------+----------------+----------------+--------------------+\n",
      "only showing top 20 rows\n",
      "\n"
     ]
    }
   ],
   "source": [
    "df_en = df.where(F.col(\"wiki_db\")==\"enwiki\")\n",
    "df_en.show()"
   ]
  },
  {
   "cell_type": "code",
   "execution_count": 7,
   "metadata": {},
   "outputs": [
    {
     "data": {
      "text/plain": [
       "6447170"
      ]
     },
     "execution_count": 7,
     "metadata": {},
     "output_type": "execute_result"
    }
   ],
   "source": [
    "## number of non-redirects\n",
    "df_en.where(F.col(\"page_is_redirect\")==False).count()"
   ]
  },
  {
   "cell_type": "code",
   "execution_count": 8,
   "metadata": {},
   "outputs": [
    {
     "data": {
      "text/plain": [
       "9915464"
      ]
     },
     "execution_count": 8,
     "metadata": {},
     "output_type": "execute_result"
    }
   ],
   "source": [
    "## number of redirects\n",
    "df_en.where(F.col(\"page_is_redirect\")==True).count()"
   ]
  },
  {
   "cell_type": "code",
   "execution_count": null,
   "metadata": {},
   "outputs": [],
   "source": []
  }
 ],
 "metadata": {
  "kernelspec": {
   "display_name": "venv_anaconda",
   "language": "python",
   "name": "venv_anaconda"
  },
  "language_info": {
   "codemirror_mode": {
    "name": "ipython",
    "version": 3
   },
   "file_extension": ".py",
   "mimetype": "text/x-python",
   "name": "python",
   "nbconvert_exporter": "python",
   "pygments_lexer": "ipython3",
   "version": "3.7.6"
  }
 },
 "nbformat": 4,
 "nbformat_minor": 4
}
