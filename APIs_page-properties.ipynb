{
 "cells": [
  {
   "cell_type": "markdown",
   "metadata": {},
   "source": [
    "# Tutorial/Collection for using the different APIs\n",
    "\n"
   ]
  },
  {
   "cell_type": "code",
   "execution_count": 1,
   "metadata": {},
   "outputs": [
    {
     "name": "stdout",
     "output_type": "stream",
     "text": [
      "ready\n"
     ]
    }
   ],
   "source": [
    "import os, sys\n",
    "import datetime\n",
    "import calendar\n",
    "import time\n",
    "import string\n",
    "import requests\n",
    "import pandas as pd\n",
    "print('ready')"
   ]
  },
  {
   "cell_type": "markdown",
   "metadata": {},
   "source": [
    "# MediawikiAPI"
   ]
  },
  {
   "cell_type": "code",
   "execution_count": 2,
   "metadata": {},
   "outputs": [],
   "source": [
    "page_title = 'Ludwig Boltzmann'\n",
    "api_url_base = 'https://en.wikipedia.org/w/api.php'"
   ]
  },
  {
   "cell_type": "markdown",
   "metadata": {},
   "source": [
    "#### search"
   ]
  },
  {
   "cell_type": "code",
   "execution_count": 3,
   "metadata": {},
   "outputs": [
    {
     "name": "stdout",
     "output_type": "stream",
     "text": [
      "[{'ns': 0, 'title': 'Ludwig Boltzmann', 'pageid': 544255, 'size': 34008, 'wordcount': 3717, 'snippet': '<span class=\"searchmatch\">Ludwig</span> Eduard <span class=\"searchmatch\">Boltzmann</span> (German pronunciation: [ˈluːtvɪg ˈbɔlt͡sman]; February 20, 1844 – September 5, 1906) was an Austrian physicist and philosopher', 'timestamp': '2020-07-13T15:11:33Z'}, {'ns': 0, 'title': 'Boltzmann brain', 'pageid': 9638200, 'size': 23433, 'wordcount': 2685, 'snippet': 'response to <span class=\"searchmatch\">Ludwig</span> <span class=\"searchmatch\">Boltzmann</span>\\'s early explanation for the low-entropy state of our universe. In this physics thought experiment, a <span class=\"searchmatch\">Boltzmann</span> brain is a', 'timestamp': '2020-07-29T20:07:45Z'}, {'ns': 0, 'title': 'Boltzmann constant', 'pageid': 53702, 'size': 21643, 'wordcount': 2434, 'snippet': 'named after the Austrian scientist <span class=\"searchmatch\">Ludwig</span> <span class=\"searchmatch\">Boltzmann</span>. As part of the 2019 redefinition of SI base units, the <span class=\"searchmatch\">Boltzmann</span> constant is one of the seven &quot;defining', 'timestamp': '2020-06-09T23:12:41Z'}, {'ns': 0, 'title': \"Boltzmann's entropy formula\", 'pageid': 9328562, 'size': 8677, 'wordcount': 963, 'snippet': 'system can be arranged. The equation was originally formulated by <span class=\"searchmatch\">Ludwig</span> <span class=\"searchmatch\">Boltzmann</span> between 1872 and 1875, but later put into its current form by Max Planck', 'timestamp': '2020-02-21T10:06:10Z'}, {'ns': 0, 'title': 'Boltzmann distribution', 'pageid': 4107, 'size': 16692, 'wordcount': 2112, 'snippet': '{\\\\varepsilon _{j}-\\\\varepsilon _{i}}{kT}}} The <span class=\"searchmatch\">Boltzmann</span> distribution is named after <span class=\"searchmatch\">Ludwig</span> <span class=\"searchmatch\">Boltzmann</span> who first formulated it in 1868 during his studies', 'timestamp': '2020-08-05T15:53:32Z'}, {'ns': 0, 'title': 'Boltzmann equation', 'pageid': 1026522, 'size': 31548, 'wordcount': 4543, 'snippet': 'of a thermodynamic system not in a state of equilibrium, devised by <span class=\"searchmatch\">Ludwig</span> <span class=\"searchmatch\">Boltzmann</span> in 1872. The classic example of such a system is a fluid with temperature', 'timestamp': '2020-07-04T22:55:38Z'}, {'ns': 0, 'title': 'Stefan–Boltzmann law', 'pageid': 53031, 'size': 26932, 'wordcount': 3977, 'snippet': 'The Stefan–<span class=\"searchmatch\">Boltzmann</span> law describes the power radiated from a black body in terms of its temperature. Specifically, the Stefan–<span class=\"searchmatch\">Boltzmann</span> law states that', 'timestamp': '2020-06-20T00:12:59Z'}, {'ns': 0, 'title': 'Ludwig Boltzmann Gesellschaft', 'pageid': 25578183, 'size': 2115, 'wordcount': 151, 'snippet': 'The <span class=\"searchmatch\">Ludwig</span> <span class=\"searchmatch\">Boltzmann</span> Gesellschaft (LBG) is an Austrian network of specialized research institutes that are not part of a university. It was founded in', 'timestamp': '2020-05-12T10:37:06Z'}, {'ns': 0, 'title': 'Maxwell–Boltzmann distribution', 'pageid': 19830, 'size': 34654, 'wordcount': 5588, 'snippet': 'mechanics), the Maxwell–<span class=\"searchmatch\">Boltzmann</span> distribution is a particular probability distribution named after James Clerk Maxwell and <span class=\"searchmatch\">Ludwig</span> <span class=\"searchmatch\">Boltzmann</span>. It was first defined', 'timestamp': '2020-08-04T00:12:52Z'}, {'ns': 0, 'title': 'Stefan–Boltzmann constant', 'pageid': 53068, 'size': 5686, 'wordcount': 770, 'snippet': 'constant in 1879, and it was later derived in 1884 by Austrian physicist <span class=\"searchmatch\">Ludwig</span> <span class=\"searchmatch\">Boltzmann</span>. The equation can also be derived from Planck\\'s law, by integrating', 'timestamp': '2020-07-14T12:10:29Z'}]\n"
     ]
    }
   ],
   "source": [
    "params = {\n",
    "    \"action\": \"query\",\n",
    "    \"list\": \"search\",\n",
    "    \"srsearch\": page_title,\n",
    "    \"format\": \"json\",\n",
    "}\n",
    "response = requests.get( api_url_base,params=params).json()\n",
    "result = response['query']['search']\n",
    "print(result)"
   ]
  },
  {
   "cell_type": "markdown",
   "metadata": {},
   "source": [
    "#### page-props"
   ]
  },
  {
   "cell_type": "code",
   "execution_count": 4,
   "metadata": {
    "scrolled": true
   },
   "outputs": [
    {
     "name": "stdout",
     "output_type": "stream",
     "text": [
      "{'544255': {'pageid': 544255, 'ns': 0, 'title': 'Ludwig Boltzmann', 'pageprops': {'defaultsort': 'Boltzmann, Ludwig', 'page_image_free': 'Boltzmann2.jpg', 'wikibase_item': 'Q84296'}}}\n"
     ]
    }
   ],
   "source": [
    "params = {\n",
    "    \"action\": \"query\",\n",
    "    \"titles\": page_title,\n",
    "    \"prop\": \"pageprops\",\n",
    "    \"format\": \"json\",\n",
    "}\n",
    "response = requests.get( api_url_base,params=params).json()\n",
    "result = response['query']['pages']\n",
    "print(result)"
   ]
  },
  {
   "cell_type": "markdown",
   "metadata": {},
   "source": [
    "#### links"
   ]
  },
  {
   "cell_type": "code",
   "execution_count": 5,
   "metadata": {},
   "outputs": [
    {
     "name": "stdout",
     "output_type": "stream",
     "text": [
      "{'544255': {'pageid': 544255, 'ns': 0, 'title': 'Ludwig Boltzmann', 'links': [{'ns': 0, 'title': 'Albert Einstein'}, {'ns': 0, 'title': 'Albert von Ettingshausen'}, {'ns': 0, 'title': 'Amedeo Avogadro'}, {'ns': 0, 'title': 'ArXiv (identifier)'}, {'ns': 0, 'title': 'Atom'}, {'ns': 0, 'title': 'Atomic mass'}, {'ns': 0, 'title': 'Atomic theory'}, {'ns': 0, 'title': 'Austria'}, {'ns': 0, 'title': 'Austria-Hungary'}, {'ns': 0, 'title': 'Austrian Academy of Sciences'}]}}\n"
     ]
    }
   ],
   "source": [
    "params = {\n",
    "    \"action\": \"query\",\n",
    "    \"titles\": page_title,\n",
    "    \"prop\": \"links\",\n",
    "    \"format\": \"json\",\n",
    "}\n",
    "response = requests.get( api_url_base,params=params).json()\n",
    "result = response['query']['pages']\n",
    "print(result)"
   ]
  },
  {
   "cell_type": "markdown",
   "metadata": {},
   "source": [
    "#### date-creation"
   ]
  },
  {
   "cell_type": "code",
   "execution_count": 6,
   "metadata": {},
   "outputs": [
    {
     "name": "stdout",
     "output_type": "stream",
     "text": [
      "{'544255': {'pageid': 544255, 'ns': 0, 'title': 'Ludwig Boltzmann', 'revisions': [{'timestamp': '2004-03-22T15:59:45Z'}]}}\n"
     ]
    }
   ],
   "source": [
    "## get timestamp of first revision\n",
    "## from: https://stackoverflow.com/questions/43898352/how-to-get-date-of-creation-of-wikipedia-page-by-api\n",
    "params = {\n",
    "    \"action\": \"query\",\n",
    "    \"titles\": page_title,\n",
    "    \"prop\": \"revisions\",\n",
    "    \"rvlimit\":1,\n",
    "    \"rvprop\":\"timestamp\",\n",
    "    \"rvdir\":\"newer\",\n",
    "    \"format\": \"json\",\n",
    "}\n",
    "response = requests.get( api_url_base,params=params).json()\n",
    "result = response['query']['pages']\n",
    "print(result)"
   ]
  },
  {
   "cell_type": "code",
   "execution_count": null,
   "metadata": {},
   "outputs": [],
   "source": []
  },
  {
   "cell_type": "markdown",
   "metadata": {},
   "source": [
    "## Edits and Pageviews"
   ]
  },
  {
   "cell_type": "markdown",
   "metadata": {},
   "source": [
    "#### pageviews"
   ]
  },
  {
   "cell_type": "code",
   "execution_count": 7,
   "metadata": {},
   "outputs": [],
   "source": [
    "def getViews(page,start,end,project):\n",
    "    \"\"\"\n",
    "    get pageviews using this API https://wikitech.wikimedia.org/wiki/Analytics/AQS/Pageviews \n",
    "    page: str (article name)\n",
    "    start: str start date YYYYMMDD (20200101)\n",
    "    end: str end date YYYYMMDD (20200103)\n",
    "    project: str, ex: en.wikipedia (project does not include .org)\n",
    "\n",
    "    \"\"\"\n",
    "    base_url = \"https://wikimedia.org/api/rest_v1/metrics/pageviews/per-article/%s/all-access/all-agents/%s/daily/%s/%s\" % (project,page,start,end)\n",
    "    try:\n",
    "        data = requests.get(base_url).json()['items']\n",
    "        df = pd.DataFrame(data) [['views','timestamp']]\n",
    "        df.rename(columns={'views':page},inplace=True)\n",
    "    except KeyError:\n",
    "        ## no pageviews- we have to set 1 date with 0 counts\n",
    "        df = pd.DataFrame(columns=[page,'timestamp'],index=[0])\n",
    "        df.iloc[0,0] = 0\n",
    "        df.iloc[0,1] = start\n",
    "    df['timestamp'] = pd.to_datetime(df['timestamp'], format='%Y%m%d%H')\n",
    "    df.set_index('timestamp',inplace=True)\n",
    "    return df"
   ]
  },
  {
   "cell_type": "code",
   "execution_count": 8,
   "metadata": {},
   "outputs": [
    {
     "data": {
      "text/html": [
       "<div>\n",
       "<style scoped>\n",
       "    .dataframe tbody tr th:only-of-type {\n",
       "        vertical-align: middle;\n",
       "    }\n",
       "\n",
       "    .dataframe tbody tr th {\n",
       "        vertical-align: top;\n",
       "    }\n",
       "\n",
       "    .dataframe thead th {\n",
       "        text-align: right;\n",
       "    }\n",
       "</style>\n",
       "<table border=\"1\" class=\"dataframe\">\n",
       "  <thead>\n",
       "    <tr style=\"text-align: right;\">\n",
       "      <th></th>\n",
       "      <th>Ludwig Boltzmann</th>\n",
       "    </tr>\n",
       "    <tr>\n",
       "      <th>timestamp</th>\n",
       "      <th></th>\n",
       "    </tr>\n",
       "  </thead>\n",
       "  <tbody>\n",
       "    <tr>\n",
       "      <th>2020-01-01</th>\n",
       "      <td>401</td>\n",
       "    </tr>\n",
       "    <tr>\n",
       "      <th>2020-01-02</th>\n",
       "      <td>397</td>\n",
       "    </tr>\n",
       "    <tr>\n",
       "      <th>2020-01-03</th>\n",
       "      <td>375</td>\n",
       "    </tr>\n",
       "  </tbody>\n",
       "</table>\n",
       "</div>"
      ],
      "text/plain": [
       "            Ludwig Boltzmann\n",
       "timestamp                   \n",
       "2020-01-01               401\n",
       "2020-01-02               397\n",
       "2020-01-03               375"
      ]
     },
     "execution_count": 8,
     "metadata": {},
     "output_type": "execute_result"
    }
   ],
   "source": [
    "start = '20200101'\n",
    "end = '20200103'\n",
    "df_views = getViews(page_title,start,end,'en.wikipedia')\n",
    "df_views"
   ]
  },
  {
   "cell_type": "code",
   "execution_count": 9,
   "metadata": {},
   "outputs": [],
   "source": [
    "def getEdits(page,start,end,project):\n",
    "    \"\"\"\n",
    "    get pageviews using this API https://wikitech.wikimedia.org/wiki/Analytics/AQS/Pageviews \n",
    "    page: str (article name)\n",
    "    start: str start date YYYYMMDD (20200101)\n",
    "    end: str end date YYYYMMDD (20200103)\n",
    "    project: str, ex: en.wikipedia (project does not include .org)\n",
    "\n",
    "    \"\"\"\n",
    "    base_url = \"https://wikimedia.org/api/rest_v1/metrics/edits/per-page/%s/%s/all-editor-types/daily/%s/%s\" % (project,page,start,end)\n",
    "    print(base_url)\n",
    "    try:\n",
    "        data = requests.get(base_url).json()['items'][0]['results']\n",
    "        df = pd.DataFrame(data) [['edits','timestamp']]\n",
    "        df.rename(columns={'edits':page},inplace=True)\n",
    "    except KeyError:\n",
    "        ## no pageviews- we have to set 1 date with 0 counts\n",
    "        df = pd.DataFrame(columns=[page,'timestamp'],index=[0])\n",
    "        df.iloc[0,0] = 0\n",
    "        df.iloc[0,1] = start\n",
    "    df['timestamp'] = pd.to_datetime(df['timestamp'].apply(lambda x:x.split('T')[0]), format='%Y-%m-%d')\n",
    "    df.set_index('timestamp',inplace=True)\n",
    "    return df"
   ]
  },
  {
   "cell_type": "code",
   "execution_count": 10,
   "metadata": {},
   "outputs": [
    {
     "name": "stdout",
     "output_type": "stream",
     "text": [
      "https://wikimedia.org/api/rest_v1/metrics/edits/per-page/en.wikipedia/Coronavirus/all-editor-types/daily/20200701/20200710\n"
     ]
    },
    {
     "data": {
      "text/html": [
       "<div>\n",
       "<style scoped>\n",
       "    .dataframe tbody tr th:only-of-type {\n",
       "        vertical-align: middle;\n",
       "    }\n",
       "\n",
       "    .dataframe tbody tr th {\n",
       "        vertical-align: top;\n",
       "    }\n",
       "\n",
       "    .dataframe thead th {\n",
       "        text-align: right;\n",
       "    }\n",
       "</style>\n",
       "<table border=\"1\" class=\"dataframe\">\n",
       "  <thead>\n",
       "    <tr style=\"text-align: right;\">\n",
       "      <th></th>\n",
       "      <th>Coronavirus</th>\n",
       "    </tr>\n",
       "    <tr>\n",
       "      <th>timestamp</th>\n",
       "      <th></th>\n",
       "    </tr>\n",
       "  </thead>\n",
       "  <tbody>\n",
       "    <tr>\n",
       "      <th>2020-07-01</th>\n",
       "      <td>0</td>\n",
       "    </tr>\n",
       "    <tr>\n",
       "      <th>2020-07-02</th>\n",
       "      <td>0</td>\n",
       "    </tr>\n",
       "    <tr>\n",
       "      <th>2020-07-03</th>\n",
       "      <td>0</td>\n",
       "    </tr>\n",
       "    <tr>\n",
       "      <th>2020-07-04</th>\n",
       "      <td>0</td>\n",
       "    </tr>\n",
       "    <tr>\n",
       "      <th>2020-07-05</th>\n",
       "      <td>0</td>\n",
       "    </tr>\n",
       "    <tr>\n",
       "      <th>2020-07-06</th>\n",
       "      <td>2</td>\n",
       "    </tr>\n",
       "    <tr>\n",
       "      <th>2020-07-07</th>\n",
       "      <td>0</td>\n",
       "    </tr>\n",
       "    <tr>\n",
       "      <th>2020-07-08</th>\n",
       "      <td>0</td>\n",
       "    </tr>\n",
       "    <tr>\n",
       "      <th>2020-07-09</th>\n",
       "      <td>0</td>\n",
       "    </tr>\n",
       "  </tbody>\n",
       "</table>\n",
       "</div>"
      ],
      "text/plain": [
       "            Coronavirus\n",
       "timestamp              \n",
       "2020-07-01            0\n",
       "2020-07-02            0\n",
       "2020-07-03            0\n",
       "2020-07-04            0\n",
       "2020-07-05            0\n",
       "2020-07-06            2\n",
       "2020-07-07            0\n",
       "2020-07-08            0\n",
       "2020-07-09            0"
      ]
     },
     "execution_count": 10,
     "metadata": {},
     "output_type": "execute_result"
    }
   ],
   "source": [
    "page_title = 'Coronavirus'\n",
    "start = '20200701'\n",
    "end = '20200710'\n",
    "df_edits = getEdits(page_title,start,end,'en.wikipedia')\n",
    "df_edits\n",
    "# https://wikimedia.org/api/rest_v1/metrics/edits/per-page/en.wikipedia/Coronavirus/all-editor-types/daily/20200701/20200710"
   ]
  },
  {
   "cell_type": "code",
   "execution_count": null,
   "metadata": {},
   "outputs": [],
   "source": []
  },
  {
   "cell_type": "markdown",
   "metadata": {},
   "source": [
    "## Redirects\n",
    "\n",
    "all pages that redirect to the current page"
   ]
  },
  {
   "cell_type": "code",
   "execution_count": 11,
   "metadata": {},
   "outputs": [
    {
     "data": {
      "text/plain": [
       "[{'pageid': 258974, 'ns': 0, 'title': 'Boltzmann'},\n",
       " {'pageid': 1753539, 'ns': 0, 'title': 'Ludwig Botzmann'},\n",
       " {'pageid': 1808494, 'ns': 0, 'title': 'Ludwig Eduard Boltzmann'},\n",
       " {'pageid': 2568913, 'ns': 0, 'title': 'L. Boltzmann'},\n",
       " {'pageid': 4889545, 'ns': 0, 'title': 'Ludwig boltzman'},\n",
       " {'pageid': 4889552, 'ns': 0, 'title': 'Ludwig Boltzman'},\n",
       " {'pageid': 6669251, 'ns': 0, 'title': 'Ludwig Bolzmann'},\n",
       " {'pageid': 41687770, 'ns': 0, 'title': 'Boltzmannian'}]"
      ]
     },
     "execution_count": 11,
     "metadata": {},
     "output_type": "execute_result"
    }
   ],
   "source": [
    "def getRedirects(page_title,wiki):\n",
    "    '''\n",
    "    get all redirects (upto 500)\n",
    "    for a given page \n",
    "    '''\n",
    "    api_url_base = 'https://%s.wikipedia.org/w/api.php'%( wiki.replace('wiki','') )\n",
    "    params = {\n",
    "        \"action\": \"query\",\n",
    "        \"titles\": page_title,\n",
    "        \"prop\": \"redirects\",\n",
    "        \"format\": \"json\",\n",
    "        \"rdlimit\":500,\n",
    "    }\n",
    "    try:\n",
    "        response = requests.get( api_url_base,params=params).json()\n",
    "        if 'query' in response:\n",
    "            if 'pages' in response['query']:\n",
    "                return response\n",
    "    except:\n",
    "        return []\n",
    "project = 'enwiki'\n",
    "page = 'Ludwig Boltzmann'\n",
    "result = getRedirects(page,project)\n",
    "redirects = list(result['query']['pages'].values())[0].get('redirects',[])\n",
    "redirects"
   ]
  },
  {
   "cell_type": "code",
   "execution_count": null,
   "metadata": {},
   "outputs": [],
   "source": []
  },
  {
   "cell_type": "code",
   "execution_count": null,
   "metadata": {},
   "outputs": [],
   "source": []
  },
  {
   "cell_type": "code",
   "execution_count": null,
   "metadata": {},
   "outputs": [],
   "source": []
  }
 ],
 "metadata": {
  "kernelspec": {
   "display_name": "venv_topicmodels",
   "language": "python",
   "name": "venv_topicmodels"
  },
  "language_info": {
   "codemirror_mode": {
    "name": "ipython",
    "version": 3
   },
   "file_extension": ".py",
   "mimetype": "text/x-python",
   "name": "python",
   "nbconvert_exporter": "python",
   "pygments_lexer": "ipython3",
   "version": "3.7.3"
  }
 },
 "nbformat": 4,
 "nbformat_minor": 2
}
